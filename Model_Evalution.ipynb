{
 "cells": [
  {
   "cell_type": "code",
   "execution_count": 17,
   "metadata": {},
   "outputs": [],
   "source": [
    "import pandas as pd\n",
    "import numpy as np \n",
    "from sklearn.linear_model import LogisticRegression\n",
    "from sklearn.model_selection import train_test_split\n",
    "from sklearn.metrics import confusion_matrix,classification_report,accuracy_score\n",
    "from sklearn.metrics import precision_score,recall_score,f1_score,plot_confusion_matrix,ConfusionMatrixDisplay,roc_curve\n",
    "from sklearn.metrics import precision_recall_curve\n",
    "from sklearn.metrics import mean_absolute_error,r2_score,mean_squared_error\n",
    "import matplotlib.pyplot as plt\n",
    "import seaborn as sns\n",
    "import warnings\n",
    "warnings.filterwarnings(\"ignore\")"
   ]
  },
  {
   "cell_type": "code",
   "execution_count": 18,
   "metadata": {},
   "outputs": [],
   "source": [
    "model_data = pd.read_csv('deploy_data.csv')"
   ]
  },
  {
   "cell_type": "code",
   "execution_count": 19,
   "metadata": {},
   "outputs": [
    {
     "data": {
      "text/html": [
       "<div>\n",
       "<style scoped>\n",
       "    .dataframe tbody tr th:only-of-type {\n",
       "        vertical-align: middle;\n",
       "    }\n",
       "\n",
       "    .dataframe tbody tr th {\n",
       "        vertical-align: top;\n",
       "    }\n",
       "\n",
       "    .dataframe thead th {\n",
       "        text-align: right;\n",
       "    }\n",
       "</style>\n",
       "<table border=\"1\" class=\"dataframe\">\n",
       "  <thead>\n",
       "    <tr style=\"text-align: right;\">\n",
       "      <th></th>\n",
       "      <th>Unnamed: 0</th>\n",
       "      <th>LoanStatus</th>\n",
       "      <th>Term</th>\n",
       "      <th>CreditGrade</th>\n",
       "      <th>BorrowerAPR</th>\n",
       "      <th>BorrowerRate</th>\n",
       "      <th>BorrowerState</th>\n",
       "      <th>CurrentDelinquencies</th>\n",
       "      <th>DebtToIncomeRatio</th>\n",
       "      <th>EstimatedEffectiveYield</th>\n",
       "      <th>...</th>\n",
       "      <th>OpenRevolvingMonthlyPayment</th>\n",
       "      <th>TotalInquiries</th>\n",
       "      <th>RevolvingCreditBalance</th>\n",
       "      <th>LoanOriginationDate</th>\n",
       "      <th>LP_CustomerPrincipalPayments</th>\n",
       "      <th>LP_InterestandFees</th>\n",
       "      <th>LP_NetPrincipalLoss</th>\n",
       "      <th>LP_NonPrincipalRecoverypayments</th>\n",
       "      <th>InvestmentFromFriendsCount</th>\n",
       "      <th>Investors</th>\n",
       "    </tr>\n",
       "  </thead>\n",
       "  <tbody>\n",
       "    <tr>\n",
       "      <th>0</th>\n",
       "      <td>0</td>\n",
       "      <td>0</td>\n",
       "      <td>36</td>\n",
       "      <td>3</td>\n",
       "      <td>0.16516</td>\n",
       "      <td>0.1580</td>\n",
       "      <td>5</td>\n",
       "      <td>5.875166</td>\n",
       "      <td>0.17</td>\n",
       "      <td>0.168661</td>\n",
       "      <td>...</td>\n",
       "      <td>24</td>\n",
       "      <td>3.0</td>\n",
       "      <td>0.000000</td>\n",
       "      <td>1711</td>\n",
       "      <td>9425.00</td>\n",
       "      <td>1971.1400</td>\n",
       "      <td>0.00</td>\n",
       "      <td>0.0</td>\n",
       "      <td>0</td>\n",
       "      <td>258</td>\n",
       "    </tr>\n",
       "    <tr>\n",
       "      <th>1</th>\n",
       "      <td>2</td>\n",
       "      <td>0</td>\n",
       "      <td>36</td>\n",
       "      <td>6</td>\n",
       "      <td>0.28269</td>\n",
       "      <td>0.2750</td>\n",
       "      <td>10</td>\n",
       "      <td>5.875166</td>\n",
       "      <td>0.06</td>\n",
       "      <td>0.168661</td>\n",
       "      <td>...</td>\n",
       "      <td>0</td>\n",
       "      <td>1.0</td>\n",
       "      <td>17598.706751</td>\n",
       "      <td>34</td>\n",
       "      <td>3001.00</td>\n",
       "      <td>1185.6300</td>\n",
       "      <td>0.00</td>\n",
       "      <td>0.0</td>\n",
       "      <td>0</td>\n",
       "      <td>41</td>\n",
       "    </tr>\n",
       "    <tr>\n",
       "      <th>2</th>\n",
       "      <td>11</td>\n",
       "      <td>0</td>\n",
       "      <td>36</td>\n",
       "      <td>3</td>\n",
       "      <td>0.15033</td>\n",
       "      <td>0.1325</td>\n",
       "      <td>4</td>\n",
       "      <td>5.875166</td>\n",
       "      <td>0.27</td>\n",
       "      <td>0.168661</td>\n",
       "      <td>...</td>\n",
       "      <td>40</td>\n",
       "      <td>5.0</td>\n",
       "      <td>1220.000000</td>\n",
       "      <td>197</td>\n",
       "      <td>1000.00</td>\n",
       "      <td>11.6500</td>\n",
       "      <td>0.00</td>\n",
       "      <td>0.0</td>\n",
       "      <td>0</td>\n",
       "      <td>53</td>\n",
       "    </tr>\n",
       "    <tr>\n",
       "      <th>3</th>\n",
       "      <td>12</td>\n",
       "      <td>0</td>\n",
       "      <td>36</td>\n",
       "      <td>3</td>\n",
       "      <td>0.17969</td>\n",
       "      <td>0.1435</td>\n",
       "      <td>1</td>\n",
       "      <td>5.875166</td>\n",
       "      <td>0.18</td>\n",
       "      <td>0.126400</td>\n",
       "      <td>...</td>\n",
       "      <td>290</td>\n",
       "      <td>4.0</td>\n",
       "      <td>8624.000000</td>\n",
       "      <td>138</td>\n",
       "      <td>88.64</td>\n",
       "      <td>47.1774</td>\n",
       "      <td>0.00</td>\n",
       "      <td>0.0</td>\n",
       "      <td>0</td>\n",
       "      <td>1</td>\n",
       "    </tr>\n",
       "    <tr>\n",
       "      <th>4</th>\n",
       "      <td>15</td>\n",
       "      <td>0</td>\n",
       "      <td>36</td>\n",
       "      <td>3</td>\n",
       "      <td>0.35797</td>\n",
       "      <td>0.3177</td>\n",
       "      <td>9</td>\n",
       "      <td>5.875166</td>\n",
       "      <td>0.49</td>\n",
       "      <td>0.289600</td>\n",
       "      <td>...</td>\n",
       "      <td>300</td>\n",
       "      <td>1.0</td>\n",
       "      <td>9103.000000</td>\n",
       "      <td>961</td>\n",
       "      <td>209.75</td>\n",
       "      <td>311.3800</td>\n",
       "      <td>3790.25</td>\n",
       "      <td>0.0</td>\n",
       "      <td>0</td>\n",
       "      <td>10</td>\n",
       "    </tr>\n",
       "  </tbody>\n",
       "</table>\n",
       "<p>5 rows × 31 columns</p>\n",
       "</div>"
      ],
      "text/plain": [
       "   Unnamed: 0  LoanStatus  Term  CreditGrade  BorrowerAPR  BorrowerRate  \\\n",
       "0           0           0    36            3      0.16516        0.1580   \n",
       "1           2           0    36            6      0.28269        0.2750   \n",
       "2          11           0    36            3      0.15033        0.1325   \n",
       "3          12           0    36            3      0.17969        0.1435   \n",
       "4          15           0    36            3      0.35797        0.3177   \n",
       "\n",
       "   BorrowerState  CurrentDelinquencies  DebtToIncomeRatio  \\\n",
       "0              5              5.875166               0.17   \n",
       "1             10              5.875166               0.06   \n",
       "2              4              5.875166               0.27   \n",
       "3              1              5.875166               0.18   \n",
       "4              9              5.875166               0.49   \n",
       "\n",
       "   EstimatedEffectiveYield  ...  OpenRevolvingMonthlyPayment  TotalInquiries  \\\n",
       "0                 0.168661  ...                           24             3.0   \n",
       "1                 0.168661  ...                            0             1.0   \n",
       "2                 0.168661  ...                           40             5.0   \n",
       "3                 0.126400  ...                          290             4.0   \n",
       "4                 0.289600  ...                          300             1.0   \n",
       "\n",
       "   RevolvingCreditBalance  LoanOriginationDate  LP_CustomerPrincipalPayments  \\\n",
       "0                0.000000                 1711                       9425.00   \n",
       "1            17598.706751                   34                       3001.00   \n",
       "2             1220.000000                  197                       1000.00   \n",
       "3             8624.000000                  138                         88.64   \n",
       "4             9103.000000                  961                        209.75   \n",
       "\n",
       "   LP_InterestandFees  LP_NetPrincipalLoss  LP_NonPrincipalRecoverypayments  \\\n",
       "0           1971.1400                 0.00                              0.0   \n",
       "1           1185.6300                 0.00                              0.0   \n",
       "2             11.6500                 0.00                              0.0   \n",
       "3             47.1774                 0.00                              0.0   \n",
       "4            311.3800              3790.25                              0.0   \n",
       "\n",
       "   InvestmentFromFriendsCount  Investors  \n",
       "0                           0        258  \n",
       "1                           0         41  \n",
       "2                           0         53  \n",
       "3                           0          1  \n",
       "4                           0         10  \n",
       "\n",
       "[5 rows x 31 columns]"
      ]
     },
     "execution_count": 19,
     "metadata": {},
     "output_type": "execute_result"
    }
   ],
   "source": [
    "model_data.head(5)"
   ]
  },
  {
   "cell_type": "code",
   "execution_count": 20,
   "metadata": {},
   "outputs": [
    {
     "data": {
      "text/plain": [
       "0"
      ]
     },
     "execution_count": 20,
     "metadata": {},
     "output_type": "execute_result"
    }
   ],
   "source": [
    "model_data.duplicated().sum()"
   ]
  },
  {
   "cell_type": "code",
   "execution_count": 21,
   "metadata": {},
   "outputs": [
    {
     "name": "stdout",
     "output_type": "stream",
     "text": [
      "<class 'pandas.core.frame.DataFrame'>\n",
      "RangeIndex: 57324 entries, 0 to 57323\n",
      "Data columns (total 31 columns):\n",
      " #   Column                           Non-Null Count  Dtype  \n",
      "---  ------                           --------------  -----  \n",
      " 0   Unnamed: 0                       57324 non-null  int64  \n",
      " 1   LoanStatus                       57324 non-null  int64  \n",
      " 2   Term                             57324 non-null  int64  \n",
      " 3   CreditGrade                      57324 non-null  int64  \n",
      " 4   BorrowerAPR                      57324 non-null  float64\n",
      " 5   BorrowerRate                     57324 non-null  float64\n",
      " 6   BorrowerState                    57324 non-null  int64  \n",
      " 7   CurrentDelinquencies             57324 non-null  float64\n",
      " 8   DebtToIncomeRatio                57324 non-null  float64\n",
      " 9   EstimatedEffectiveYield          57324 non-null  float64\n",
      " 10  EstimatedLoss                    57324 non-null  float64\n",
      " 11  EstimatedReturn                  57324 non-null  float64\n",
      " 12  ProsperRating (numeric)          57324 non-null  float64\n",
      " 13  ProsperRating (Alpha)            57324 non-null  int64  \n",
      " 14  ProsperScore                     57324 non-null  float64\n",
      " 15  EmploymentStatus                 57324 non-null  int64  \n",
      " 16  CreditScoreRangeLower            57324 non-null  float64\n",
      " 17  CreditScoreRangeUpper            57324 non-null  float64\n",
      " 18  OpenCreditLines                  57324 non-null  float64\n",
      " 19  TotalCreditLinespast7years       57324 non-null  float64\n",
      " 20  OpenRevolvingAccounts            57324 non-null  int64  \n",
      " 21  OpenRevolvingMonthlyPayment      57324 non-null  int64  \n",
      " 22  TotalInquiries                   57324 non-null  float64\n",
      " 23  RevolvingCreditBalance           57324 non-null  float64\n",
      " 24  LoanOriginationDate              57324 non-null  int64  \n",
      " 25  LP_CustomerPrincipalPayments     57324 non-null  float64\n",
      " 26  LP_InterestandFees               57324 non-null  float64\n",
      " 27  LP_NetPrincipalLoss              57324 non-null  float64\n",
      " 28  LP_NonPrincipalRecoverypayments  57324 non-null  float64\n",
      " 29  InvestmentFromFriendsCount       57324 non-null  int64  \n",
      " 30  Investors                        57324 non-null  int64  \n",
      "dtypes: float64(19), int64(12)\n",
      "memory usage: 13.6 MB\n"
     ]
    }
   ],
   "source": [
    "model_data.info()"
   ]
  },
  {
   "cell_type": "code",
   "execution_count": 22,
   "metadata": {},
   "outputs": [],
   "source": [
    "# model_data.drop(['InvestmentFromFriendsCount','Investors'],axis=1,inplace=True)\n",
    "model_data.drop(['Unnamed: 0'],axis=1,inplace=True)\n"
   ]
  },
  {
   "cell_type": "code",
   "execution_count": 23,
   "metadata": {},
   "outputs": [
    {
     "data": {
      "text/html": [
       "<div>\n",
       "<style scoped>\n",
       "    .dataframe tbody tr th:only-of-type {\n",
       "        vertical-align: middle;\n",
       "    }\n",
       "\n",
       "    .dataframe tbody tr th {\n",
       "        vertical-align: top;\n",
       "    }\n",
       "\n",
       "    .dataframe thead th {\n",
       "        text-align: right;\n",
       "    }\n",
       "</style>\n",
       "<table border=\"1\" class=\"dataframe\">\n",
       "  <thead>\n",
       "    <tr style=\"text-align: right;\">\n",
       "      <th></th>\n",
       "      <th>LoanStatus</th>\n",
       "      <th>Term</th>\n",
       "      <th>CreditGrade</th>\n",
       "      <th>BorrowerAPR</th>\n",
       "      <th>BorrowerRate</th>\n",
       "      <th>BorrowerState</th>\n",
       "      <th>CurrentDelinquencies</th>\n",
       "      <th>DebtToIncomeRatio</th>\n",
       "      <th>EstimatedEffectiveYield</th>\n",
       "      <th>EstimatedLoss</th>\n",
       "      <th>...</th>\n",
       "      <th>OpenRevolvingMonthlyPayment</th>\n",
       "      <th>TotalInquiries</th>\n",
       "      <th>RevolvingCreditBalance</th>\n",
       "      <th>LoanOriginationDate</th>\n",
       "      <th>LP_CustomerPrincipalPayments</th>\n",
       "      <th>LP_InterestandFees</th>\n",
       "      <th>LP_NetPrincipalLoss</th>\n",
       "      <th>LP_NonPrincipalRecoverypayments</th>\n",
       "      <th>InvestmentFromFriendsCount</th>\n",
       "      <th>Investors</th>\n",
       "    </tr>\n",
       "  </thead>\n",
       "  <tbody>\n",
       "    <tr>\n",
       "      <th>0</th>\n",
       "      <td>0</td>\n",
       "      <td>36</td>\n",
       "      <td>3</td>\n",
       "      <td>0.16516</td>\n",
       "      <td>0.1580</td>\n",
       "      <td>5</td>\n",
       "      <td>5.875166</td>\n",
       "      <td>0.17</td>\n",
       "      <td>0.168661</td>\n",
       "      <td>0.080306</td>\n",
       "      <td>...</td>\n",
       "      <td>24</td>\n",
       "      <td>3.0</td>\n",
       "      <td>0.000000</td>\n",
       "      <td>1711</td>\n",
       "      <td>9425.0</td>\n",
       "      <td>1971.14</td>\n",
       "      <td>0.0</td>\n",
       "      <td>0.0</td>\n",
       "      <td>0</td>\n",
       "      <td>258</td>\n",
       "    </tr>\n",
       "    <tr>\n",
       "      <th>1</th>\n",
       "      <td>0</td>\n",
       "      <td>36</td>\n",
       "      <td>6</td>\n",
       "      <td>0.28269</td>\n",
       "      <td>0.2750</td>\n",
       "      <td>10</td>\n",
       "      <td>5.875166</td>\n",
       "      <td>0.06</td>\n",
       "      <td>0.168661</td>\n",
       "      <td>0.080306</td>\n",
       "      <td>...</td>\n",
       "      <td>0</td>\n",
       "      <td>1.0</td>\n",
       "      <td>17598.706751</td>\n",
       "      <td>34</td>\n",
       "      <td>3001.0</td>\n",
       "      <td>1185.63</td>\n",
       "      <td>0.0</td>\n",
       "      <td>0.0</td>\n",
       "      <td>0</td>\n",
       "      <td>41</td>\n",
       "    </tr>\n",
       "    <tr>\n",
       "      <th>2</th>\n",
       "      <td>0</td>\n",
       "      <td>36</td>\n",
       "      <td>3</td>\n",
       "      <td>0.15033</td>\n",
       "      <td>0.1325</td>\n",
       "      <td>4</td>\n",
       "      <td>5.875166</td>\n",
       "      <td>0.27</td>\n",
       "      <td>0.168661</td>\n",
       "      <td>0.080306</td>\n",
       "      <td>...</td>\n",
       "      <td>40</td>\n",
       "      <td>5.0</td>\n",
       "      <td>1220.000000</td>\n",
       "      <td>197</td>\n",
       "      <td>1000.0</td>\n",
       "      <td>11.65</td>\n",
       "      <td>0.0</td>\n",
       "      <td>0.0</td>\n",
       "      <td>0</td>\n",
       "      <td>53</td>\n",
       "    </tr>\n",
       "  </tbody>\n",
       "</table>\n",
       "<p>3 rows × 30 columns</p>\n",
       "</div>"
      ],
      "text/plain": [
       "   LoanStatus  Term  CreditGrade  BorrowerAPR  BorrowerRate  BorrowerState  \\\n",
       "0           0    36            3      0.16516        0.1580              5   \n",
       "1           0    36            6      0.28269        0.2750             10   \n",
       "2           0    36            3      0.15033        0.1325              4   \n",
       "\n",
       "   CurrentDelinquencies  DebtToIncomeRatio  EstimatedEffectiveYield  \\\n",
       "0              5.875166               0.17                 0.168661   \n",
       "1              5.875166               0.06                 0.168661   \n",
       "2              5.875166               0.27                 0.168661   \n",
       "\n",
       "   EstimatedLoss  ...  OpenRevolvingMonthlyPayment  TotalInquiries  \\\n",
       "0       0.080306  ...                           24             3.0   \n",
       "1       0.080306  ...                            0             1.0   \n",
       "2       0.080306  ...                           40             5.0   \n",
       "\n",
       "   RevolvingCreditBalance  LoanOriginationDate  LP_CustomerPrincipalPayments  \\\n",
       "0                0.000000                 1711                        9425.0   \n",
       "1            17598.706751                   34                        3001.0   \n",
       "2             1220.000000                  197                        1000.0   \n",
       "\n",
       "   LP_InterestandFees  LP_NetPrincipalLoss  LP_NonPrincipalRecoverypayments  \\\n",
       "0             1971.14                  0.0                              0.0   \n",
       "1             1185.63                  0.0                              0.0   \n",
       "2               11.65                  0.0                              0.0   \n",
       "\n",
       "   InvestmentFromFriendsCount  Investors  \n",
       "0                           0        258  \n",
       "1                           0         41  \n",
       "2                           0         53  \n",
       "\n",
       "[3 rows x 30 columns]"
      ]
     },
     "execution_count": 23,
     "metadata": {},
     "output_type": "execute_result"
    }
   ],
   "source": [
    "model_data.head(3)"
   ]
  },
  {
   "cell_type": "code",
   "execution_count": 24,
   "metadata": {},
   "outputs": [
    {
     "name": "stdout",
     "output_type": "stream",
     "text": [
      "<class 'pandas.core.frame.DataFrame'>\n",
      "RangeIndex: 57324 entries, 0 to 57323\n",
      "Data columns (total 30 columns):\n",
      " #   Column                           Non-Null Count  Dtype  \n",
      "---  ------                           --------------  -----  \n",
      " 0   LoanStatus                       57324 non-null  int64  \n",
      " 1   Term                             57324 non-null  int64  \n",
      " 2   CreditGrade                      57324 non-null  int64  \n",
      " 3   BorrowerAPR                      57324 non-null  float64\n",
      " 4   BorrowerRate                     57324 non-null  float64\n",
      " 5   BorrowerState                    57324 non-null  int64  \n",
      " 6   CurrentDelinquencies             57324 non-null  float64\n",
      " 7   DebtToIncomeRatio                57324 non-null  float64\n",
      " 8   EstimatedEffectiveYield          57324 non-null  float64\n",
      " 9   EstimatedLoss                    57324 non-null  float64\n",
      " 10  EstimatedReturn                  57324 non-null  float64\n",
      " 11  ProsperRating (numeric)          57324 non-null  float64\n",
      " 12  ProsperRating (Alpha)            57324 non-null  int64  \n",
      " 13  ProsperScore                     57324 non-null  float64\n",
      " 14  EmploymentStatus                 57324 non-null  int64  \n",
      " 15  CreditScoreRangeLower            57324 non-null  float64\n",
      " 16  CreditScoreRangeUpper            57324 non-null  float64\n",
      " 17  OpenCreditLines                  57324 non-null  float64\n",
      " 18  TotalCreditLinespast7years       57324 non-null  float64\n",
      " 19  OpenRevolvingAccounts            57324 non-null  int64  \n",
      " 20  OpenRevolvingMonthlyPayment      57324 non-null  int64  \n",
      " 21  TotalInquiries                   57324 non-null  float64\n",
      " 22  RevolvingCreditBalance           57324 non-null  float64\n",
      " 23  LoanOriginationDate              57324 non-null  int64  \n",
      " 24  LP_CustomerPrincipalPayments     57324 non-null  float64\n",
      " 25  LP_InterestandFees               57324 non-null  float64\n",
      " 26  LP_NetPrincipalLoss              57324 non-null  float64\n",
      " 27  LP_NonPrincipalRecoverypayments  57324 non-null  float64\n",
      " 28  InvestmentFromFriendsCount       57324 non-null  int64  \n",
      " 29  Investors                        57324 non-null  int64  \n",
      "dtypes: float64(19), int64(11)\n",
      "memory usage: 13.1 MB\n"
     ]
    }
   ],
   "source": [
    "model_data.info()"
   ]
  },
  {
   "attachments": {},
   "cell_type": "markdown",
   "metadata": {},
   "source": [
    "### Feature Scaling "
   ]
  },
  {
   "cell_type": "code",
   "execution_count": 25,
   "metadata": {},
   "outputs": [],
   "source": [
    "x = model_data.drop(\"LoanStatus\",axis=1)\n",
    "y = model_data[\"LoanStatus\"]\n",
    "x_train,x_test,y_train,y_test = train_test_split(x,y,test_size=0.30,random_state=45)"
   ]
  },
  {
   "cell_type": "code",
   "execution_count": 26,
   "metadata": {},
   "outputs": [
    {
     "data": {
      "text/html": [
       "<div>\n",
       "<style scoped>\n",
       "    .dataframe tbody tr th:only-of-type {\n",
       "        vertical-align: middle;\n",
       "    }\n",
       "\n",
       "    .dataframe tbody tr th {\n",
       "        vertical-align: top;\n",
       "    }\n",
       "\n",
       "    .dataframe thead th {\n",
       "        text-align: right;\n",
       "    }\n",
       "</style>\n",
       "<table border=\"1\" class=\"dataframe\">\n",
       "  <thead>\n",
       "    <tr style=\"text-align: right;\">\n",
       "      <th></th>\n",
       "      <th>Term</th>\n",
       "      <th>CreditGrade</th>\n",
       "      <th>BorrowerAPR</th>\n",
       "      <th>BorrowerRate</th>\n",
       "      <th>BorrowerState</th>\n",
       "      <th>CurrentDelinquencies</th>\n",
       "      <th>DebtToIncomeRatio</th>\n",
       "      <th>EstimatedEffectiveYield</th>\n",
       "      <th>EstimatedLoss</th>\n",
       "      <th>EstimatedReturn</th>\n",
       "      <th>...</th>\n",
       "      <th>OpenRevolvingMonthlyPayment</th>\n",
       "      <th>TotalInquiries</th>\n",
       "      <th>RevolvingCreditBalance</th>\n",
       "      <th>LoanOriginationDate</th>\n",
       "      <th>LP_CustomerPrincipalPayments</th>\n",
       "      <th>LP_InterestandFees</th>\n",
       "      <th>LP_NetPrincipalLoss</th>\n",
       "      <th>LP_NonPrincipalRecoverypayments</th>\n",
       "      <th>InvestmentFromFriendsCount</th>\n",
       "      <th>Investors</th>\n",
       "    </tr>\n",
       "  </thead>\n",
       "  <tbody>\n",
       "    <tr>\n",
       "      <th>0</th>\n",
       "      <td>0.5</td>\n",
       "      <td>0.857143</td>\n",
       "      <td>0.752634</td>\n",
       "      <td>0.734043</td>\n",
       "      <td>0.08</td>\n",
       "      <td>0.0</td>\n",
       "      <td>0.010989</td>\n",
       "      <td>0.698428</td>\n",
       "      <td>0.208823</td>\n",
       "      <td>0.619381</td>\n",
       "      <td>...</td>\n",
       "      <td>0.007407</td>\n",
       "      <td>0.037135</td>\n",
       "      <td>0.001516</td>\n",
       "      <td>0.897519</td>\n",
       "      <td>0.010574</td>\n",
       "      <td>0.034825</td>\n",
       "      <td>0.061047</td>\n",
       "      <td>0.0</td>\n",
       "      <td>0.0</td>\n",
       "      <td>0.003367</td>\n",
       "    </tr>\n",
       "    <tr>\n",
       "      <th>1</th>\n",
       "      <td>0.5</td>\n",
       "      <td>0.857143</td>\n",
       "      <td>0.338552</td>\n",
       "      <td>0.315106</td>\n",
       "      <td>0.96</td>\n",
       "      <td>0.0</td>\n",
       "      <td>0.005994</td>\n",
       "      <td>0.698428</td>\n",
       "      <td>0.208823</td>\n",
       "      <td>0.619381</td>\n",
       "      <td>...</td>\n",
       "      <td>0.000000</td>\n",
       "      <td>0.002653</td>\n",
       "      <td>0.000000</td>\n",
       "      <td>0.052319</td>\n",
       "      <td>0.028571</td>\n",
       "      <td>0.002252</td>\n",
       "      <td>0.036778</td>\n",
       "      <td>0.0</td>\n",
       "      <td>0.0</td>\n",
       "      <td>0.000842</td>\n",
       "    </tr>\n",
       "    <tr>\n",
       "      <th>2</th>\n",
       "      <td>0.5</td>\n",
       "      <td>0.428571</td>\n",
       "      <td>0.725633</td>\n",
       "      <td>0.680638</td>\n",
       "      <td>0.66</td>\n",
       "      <td>0.0</td>\n",
       "      <td>0.021978</td>\n",
       "      <td>0.951745</td>\n",
       "      <td>0.393520</td>\n",
       "      <td>0.736783</td>\n",
       "      <td>...</td>\n",
       "      <td>0.016216</td>\n",
       "      <td>0.018568</td>\n",
       "      <td>0.006848</td>\n",
       "      <td>0.975728</td>\n",
       "      <td>0.071429</td>\n",
       "      <td>0.028051</td>\n",
       "      <td>0.036778</td>\n",
       "      <td>0.0</td>\n",
       "      <td>0.0</td>\n",
       "      <td>0.018519</td>\n",
       "    </tr>\n",
       "    <tr>\n",
       "      <th>3</th>\n",
       "      <td>0.5</td>\n",
       "      <td>0.428571</td>\n",
       "      <td>0.728826</td>\n",
       "      <td>0.675957</td>\n",
       "      <td>0.62</td>\n",
       "      <td>0.0</td>\n",
       "      <td>0.024975</td>\n",
       "      <td>0.939581</td>\n",
       "      <td>0.443367</td>\n",
       "      <td>0.683025</td>\n",
       "      <td>...</td>\n",
       "      <td>0.011144</td>\n",
       "      <td>0.013263</td>\n",
       "      <td>0.001473</td>\n",
       "      <td>0.347357</td>\n",
       "      <td>0.006105</td>\n",
       "      <td>0.027067</td>\n",
       "      <td>0.144131</td>\n",
       "      <td>0.0</td>\n",
       "      <td>0.0</td>\n",
       "      <td>0.046296</td>\n",
       "    </tr>\n",
       "    <tr>\n",
       "      <th>4</th>\n",
       "      <td>0.5</td>\n",
       "      <td>0.428571</td>\n",
       "      <td>0.728826</td>\n",
       "      <td>0.675957</td>\n",
       "      <td>0.54</td>\n",
       "      <td>0.0</td>\n",
       "      <td>0.021978</td>\n",
       "      <td>0.939581</td>\n",
       "      <td>0.464137</td>\n",
       "      <td>0.666295</td>\n",
       "      <td>...</td>\n",
       "      <td>0.006673</td>\n",
       "      <td>0.018568</td>\n",
       "      <td>0.001248</td>\n",
       "      <td>0.785868</td>\n",
       "      <td>0.071429</td>\n",
       "      <td>0.033338</td>\n",
       "      <td>0.036778</td>\n",
       "      <td>0.0</td>\n",
       "      <td>0.0</td>\n",
       "      <td>0.002525</td>\n",
       "    </tr>\n",
       "    <tr>\n",
       "      <th>...</th>\n",
       "      <td>...</td>\n",
       "      <td>...</td>\n",
       "      <td>...</td>\n",
       "      <td>...</td>\n",
       "      <td>...</td>\n",
       "      <td>...</td>\n",
       "      <td>...</td>\n",
       "      <td>...</td>\n",
       "      <td>...</td>\n",
       "      <td>...</td>\n",
       "      <td>...</td>\n",
       "      <td>...</td>\n",
       "      <td>...</td>\n",
       "      <td>...</td>\n",
       "      <td>...</td>\n",
       "      <td>...</td>\n",
       "      <td>...</td>\n",
       "      <td>...</td>\n",
       "      <td>...</td>\n",
       "      <td>...</td>\n",
       "      <td>...</td>\n",
       "    </tr>\n",
       "    <tr>\n",
       "      <th>40121</th>\n",
       "      <td>0.5</td>\n",
       "      <td>0.857143</td>\n",
       "      <td>0.478951</td>\n",
       "      <td>0.489362</td>\n",
       "      <td>0.08</td>\n",
       "      <td>0.0</td>\n",
       "      <td>0.006150</td>\n",
       "      <td>0.698428</td>\n",
       "      <td>0.208823</td>\n",
       "      <td>0.619381</td>\n",
       "      <td>...</td>\n",
       "      <td>0.000000</td>\n",
       "      <td>0.014813</td>\n",
       "      <td>0.012258</td>\n",
       "      <td>0.533981</td>\n",
       "      <td>0.008661</td>\n",
       "      <td>0.017783</td>\n",
       "      <td>0.140724</td>\n",
       "      <td>0.0</td>\n",
       "      <td>0.0</td>\n",
       "      <td>0.006734</td>\n",
       "    </tr>\n",
       "    <tr>\n",
       "      <th>40122</th>\n",
       "      <td>0.5</td>\n",
       "      <td>0.428571</td>\n",
       "      <td>0.308150</td>\n",
       "      <td>0.314894</td>\n",
       "      <td>0.20</td>\n",
       "      <td>0.0</td>\n",
       "      <td>0.006993</td>\n",
       "      <td>0.698428</td>\n",
       "      <td>0.208823</td>\n",
       "      <td>0.619381</td>\n",
       "      <td>...</td>\n",
       "      <td>0.005939</td>\n",
       "      <td>0.007958</td>\n",
       "      <td>0.018703</td>\n",
       "      <td>0.176375</td>\n",
       "      <td>0.214286</td>\n",
       "      <td>0.110852</td>\n",
       "      <td>0.036778</td>\n",
       "      <td>0.0</td>\n",
       "      <td>0.0</td>\n",
       "      <td>0.164141</td>\n",
       "    </tr>\n",
       "    <tr>\n",
       "      <th>40123</th>\n",
       "      <td>0.5</td>\n",
       "      <td>0.428571</td>\n",
       "      <td>0.730091</td>\n",
       "      <td>0.685106</td>\n",
       "      <td>0.62</td>\n",
       "      <td>0.0</td>\n",
       "      <td>0.011988</td>\n",
       "      <td>0.672582</td>\n",
       "      <td>0.379673</td>\n",
       "      <td>0.752398</td>\n",
       "      <td>...</td>\n",
       "      <td>0.007608</td>\n",
       "      <td>0.021220</td>\n",
       "      <td>0.002417</td>\n",
       "      <td>0.248652</td>\n",
       "      <td>0.040161</td>\n",
       "      <td>0.076789</td>\n",
       "      <td>0.078943</td>\n",
       "      <td>0.0</td>\n",
       "      <td>0.0</td>\n",
       "      <td>0.073232</td>\n",
       "    </tr>\n",
       "    <tr>\n",
       "      <th>40124</th>\n",
       "      <td>0.5</td>\n",
       "      <td>0.571429</td>\n",
       "      <td>0.739382</td>\n",
       "      <td>0.720638</td>\n",
       "      <td>0.02</td>\n",
       "      <td>0.0</td>\n",
       "      <td>0.027567</td>\n",
       "      <td>0.698428</td>\n",
       "      <td>0.208823</td>\n",
       "      <td>0.619381</td>\n",
       "      <td>...</td>\n",
       "      <td>0.056857</td>\n",
       "      <td>0.063660</td>\n",
       "      <td>0.019937</td>\n",
       "      <td>0.337109</td>\n",
       "      <td>0.030922</td>\n",
       "      <td>0.073493</td>\n",
       "      <td>0.091402</td>\n",
       "      <td>0.0</td>\n",
       "      <td>0.0</td>\n",
       "      <td>0.029461</td>\n",
       "    </tr>\n",
       "    <tr>\n",
       "      <th>40125</th>\n",
       "      <td>0.5</td>\n",
       "      <td>0.428571</td>\n",
       "      <td>0.211385</td>\n",
       "      <td>0.223404</td>\n",
       "      <td>0.08</td>\n",
       "      <td>0.0</td>\n",
       "      <td>0.014985</td>\n",
       "      <td>0.521436</td>\n",
       "      <td>0.027970</td>\n",
       "      <td>0.583315</td>\n",
       "      <td>...</td>\n",
       "      <td>0.021955</td>\n",
       "      <td>0.002653</td>\n",
       "      <td>0.009520</td>\n",
       "      <td>0.331715</td>\n",
       "      <td>0.428571</td>\n",
       "      <td>0.117517</td>\n",
       "      <td>0.036778</td>\n",
       "      <td>0.0</td>\n",
       "      <td>0.0</td>\n",
       "      <td>0.350168</td>\n",
       "    </tr>\n",
       "  </tbody>\n",
       "</table>\n",
       "<p>40126 rows × 29 columns</p>\n",
       "</div>"
      ],
      "text/plain": [
       "       Term  CreditGrade  BorrowerAPR  BorrowerRate  BorrowerState  \\\n",
       "0       0.5     0.857143     0.752634      0.734043           0.08   \n",
       "1       0.5     0.857143     0.338552      0.315106           0.96   \n",
       "2       0.5     0.428571     0.725633      0.680638           0.66   \n",
       "3       0.5     0.428571     0.728826      0.675957           0.62   \n",
       "4       0.5     0.428571     0.728826      0.675957           0.54   \n",
       "...     ...          ...          ...           ...            ...   \n",
       "40121   0.5     0.857143     0.478951      0.489362           0.08   \n",
       "40122   0.5     0.428571     0.308150      0.314894           0.20   \n",
       "40123   0.5     0.428571     0.730091      0.685106           0.62   \n",
       "40124   0.5     0.571429     0.739382      0.720638           0.02   \n",
       "40125   0.5     0.428571     0.211385      0.223404           0.08   \n",
       "\n",
       "       CurrentDelinquencies  DebtToIncomeRatio  EstimatedEffectiveYield  \\\n",
       "0                       0.0           0.010989                 0.698428   \n",
       "1                       0.0           0.005994                 0.698428   \n",
       "2                       0.0           0.021978                 0.951745   \n",
       "3                       0.0           0.024975                 0.939581   \n",
       "4                       0.0           0.021978                 0.939581   \n",
       "...                     ...                ...                      ...   \n",
       "40121                   0.0           0.006150                 0.698428   \n",
       "40122                   0.0           0.006993                 0.698428   \n",
       "40123                   0.0           0.011988                 0.672582   \n",
       "40124                   0.0           0.027567                 0.698428   \n",
       "40125                   0.0           0.014985                 0.521436   \n",
       "\n",
       "       EstimatedLoss  EstimatedReturn  ...  OpenRevolvingMonthlyPayment  \\\n",
       "0           0.208823         0.619381  ...                     0.007407   \n",
       "1           0.208823         0.619381  ...                     0.000000   \n",
       "2           0.393520         0.736783  ...                     0.016216   \n",
       "3           0.443367         0.683025  ...                     0.011144   \n",
       "4           0.464137         0.666295  ...                     0.006673   \n",
       "...              ...              ...  ...                          ...   \n",
       "40121       0.208823         0.619381  ...                     0.000000   \n",
       "40122       0.208823         0.619381  ...                     0.005939   \n",
       "40123       0.379673         0.752398  ...                     0.007608   \n",
       "40124       0.208823         0.619381  ...                     0.056857   \n",
       "40125       0.027970         0.583315  ...                     0.021955   \n",
       "\n",
       "       TotalInquiries  RevolvingCreditBalance  LoanOriginationDate  \\\n",
       "0            0.037135                0.001516             0.897519   \n",
       "1            0.002653                0.000000             0.052319   \n",
       "2            0.018568                0.006848             0.975728   \n",
       "3            0.013263                0.001473             0.347357   \n",
       "4            0.018568                0.001248             0.785868   \n",
       "...               ...                     ...                  ...   \n",
       "40121        0.014813                0.012258             0.533981   \n",
       "40122        0.007958                0.018703             0.176375   \n",
       "40123        0.021220                0.002417             0.248652   \n",
       "40124        0.063660                0.019937             0.337109   \n",
       "40125        0.002653                0.009520             0.331715   \n",
       "\n",
       "       LP_CustomerPrincipalPayments  LP_InterestandFees  LP_NetPrincipalLoss  \\\n",
       "0                          0.010574            0.034825             0.061047   \n",
       "1                          0.028571            0.002252             0.036778   \n",
       "2                          0.071429            0.028051             0.036778   \n",
       "3                          0.006105            0.027067             0.144131   \n",
       "4                          0.071429            0.033338             0.036778   \n",
       "...                             ...                 ...                  ...   \n",
       "40121                      0.008661            0.017783             0.140724   \n",
       "40122                      0.214286            0.110852             0.036778   \n",
       "40123                      0.040161            0.076789             0.078943   \n",
       "40124                      0.030922            0.073493             0.091402   \n",
       "40125                      0.428571            0.117517             0.036778   \n",
       "\n",
       "       LP_NonPrincipalRecoverypayments  InvestmentFromFriendsCount  Investors  \n",
       "0                                  0.0                         0.0   0.003367  \n",
       "1                                  0.0                         0.0   0.000842  \n",
       "2                                  0.0                         0.0   0.018519  \n",
       "3                                  0.0                         0.0   0.046296  \n",
       "4                                  0.0                         0.0   0.002525  \n",
       "...                                ...                         ...        ...  \n",
       "40121                              0.0                         0.0   0.006734  \n",
       "40122                              0.0                         0.0   0.164141  \n",
       "40123                              0.0                         0.0   0.073232  \n",
       "40124                              0.0                         0.0   0.029461  \n",
       "40125                              0.0                         0.0   0.350168  \n",
       "\n",
       "[40126 rows x 29 columns]"
      ]
     },
     "execution_count": 26,
     "metadata": {},
     "output_type": "execute_result"
    }
   ],
   "source": [
    "from sklearn.preprocessing import MinMaxScaler,StandardScaler\n",
    "normal_scalar = MinMaxScaler()\n",
    "normal_scalar.fit(x_train)\n",
    "array = normal_scalar.transform(x_train)\n",
    "normal_train_df = pd.DataFrame(array,columns=x_train.columns)\n",
    "normal_train_df"
   ]
  },
  {
   "cell_type": "code",
   "execution_count": 27,
   "metadata": {},
   "outputs": [],
   "source": [
    "# import pandas as pd\n",
    "# from sklearn.preprocessing import StandardScaler\n",
    "\n",
    "\n",
    "# # Separate features and target variable\n",
    "# x = model_data.drop('LoanStatus', axis=1)\n",
    "# y = model_data['LoanStatus']\n",
    "\n",
    "# # Initialize the scaler\n",
    "# scaler = StandardScaler()\n",
    "\n",
    "# # Fit and transform the feature data\n",
    "# X_scaled = scaler.fit_transform(x)\n",
    "\n",
    "# # Create a new DataFrame with the scaled features\n",
    "# scaled_dataset = pd.DataFrame(X_scaled, columns=x.columns)\n",
    "\n",
    "# # Concatenate the scaled features with the target variable\n",
    "# scaled_dataset['LoanStatus'] = y\n",
    "\n",
    "# # Display the scaled dataset\n",
    "# print(scaled_dataset.head())\n"
   ]
  },
  {
   "cell_type": "code",
   "execution_count": 28,
   "metadata": {},
   "outputs": [],
   "source": [
    "# scaled_dataset.head()"
   ]
  },
  {
   "cell_type": "code",
   "execution_count": 29,
   "metadata": {},
   "outputs": [],
   "source": [
    "# x_train.head()"
   ]
  },
  {
   "cell_type": "code",
   "execution_count": null,
   "metadata": {},
   "outputs": [],
   "source": []
  },
  {
   "attachments": {},
   "cell_type": "markdown",
   "metadata": {},
   "source": [
    "* Logistic Regression\n",
    "* K-Nearest Neighbours\n",
    "* Support Vector Machines\n",
    "* Kernel SVM\n",
    "* Naïve Bayes\n",
    "* Decision Tree Classification\n",
    "* Random Forest Classification"
   ]
  },
  {
   "attachments": {},
   "cell_type": "markdown",
   "metadata": {},
   "source": [
    "> ### Step 1:\n",
    "* Define dependent and independent variables and then split the data into a training set and testing set."
   ]
  },
  {
   "cell_type": "code",
   "execution_count": 30,
   "metadata": {},
   "outputs": [],
   "source": [
    "#Define the independent and dependent variables\n",
    "\n",
    "x= model_data.drop(['LoanStatus'], axis=1)\n",
    "y= model_data['LoanStatus'] #dependent variable is Decision\n",
    "\n",
    "# splitting the data\n",
    "# stratify >> it will make equal proportion  of target column\n",
    "x_train,x_test,y_train,y_test = train_test_split(x,y,test_size=0.30,random_state=45,stratify=y)"
   ]
  },
  {
   "attachments": {},
   "cell_type": "markdown",
   "metadata": {},
   "source": [
    "### 1. Logistic Regression\n"
   ]
  },
  {
   "cell_type": "code",
   "execution_count": 31,
   "metadata": {},
   "outputs": [
    {
     "data": {
      "text/html": [
       "<style>#sk-container-id-2 {color: black;background-color: white;}#sk-container-id-2 pre{padding: 0;}#sk-container-id-2 div.sk-toggleable {background-color: white;}#sk-container-id-2 label.sk-toggleable__label {cursor: pointer;display: block;width: 100%;margin-bottom: 0;padding: 0.3em;box-sizing: border-box;text-align: center;}#sk-container-id-2 label.sk-toggleable__label-arrow:before {content: \"▸\";float: left;margin-right: 0.25em;color: #696969;}#sk-container-id-2 label.sk-toggleable__label-arrow:hover:before {color: black;}#sk-container-id-2 div.sk-estimator:hover label.sk-toggleable__label-arrow:before {color: black;}#sk-container-id-2 div.sk-toggleable__content {max-height: 0;max-width: 0;overflow: hidden;text-align: left;background-color: #f0f8ff;}#sk-container-id-2 div.sk-toggleable__content pre {margin: 0.2em;color: black;border-radius: 0.25em;background-color: #f0f8ff;}#sk-container-id-2 input.sk-toggleable__control:checked~div.sk-toggleable__content {max-height: 200px;max-width: 100%;overflow: auto;}#sk-container-id-2 input.sk-toggleable__control:checked~label.sk-toggleable__label-arrow:before {content: \"▾\";}#sk-container-id-2 div.sk-estimator input.sk-toggleable__control:checked~label.sk-toggleable__label {background-color: #d4ebff;}#sk-container-id-2 div.sk-label input.sk-toggleable__control:checked~label.sk-toggleable__label {background-color: #d4ebff;}#sk-container-id-2 input.sk-hidden--visually {border: 0;clip: rect(1px 1px 1px 1px);clip: rect(1px, 1px, 1px, 1px);height: 1px;margin: -1px;overflow: hidden;padding: 0;position: absolute;width: 1px;}#sk-container-id-2 div.sk-estimator {font-family: monospace;background-color: #f0f8ff;border: 1px dotted black;border-radius: 0.25em;box-sizing: border-box;margin-bottom: 0.5em;}#sk-container-id-2 div.sk-estimator:hover {background-color: #d4ebff;}#sk-container-id-2 div.sk-parallel-item::after {content: \"\";width: 100%;border-bottom: 1px solid gray;flex-grow: 1;}#sk-container-id-2 div.sk-label:hover label.sk-toggleable__label {background-color: #d4ebff;}#sk-container-id-2 div.sk-serial::before {content: \"\";position: absolute;border-left: 1px solid gray;box-sizing: border-box;top: 0;bottom: 0;left: 50%;z-index: 0;}#sk-container-id-2 div.sk-serial {display: flex;flex-direction: column;align-items: center;background-color: white;padding-right: 0.2em;padding-left: 0.2em;position: relative;}#sk-container-id-2 div.sk-item {position: relative;z-index: 1;}#sk-container-id-2 div.sk-parallel {display: flex;align-items: stretch;justify-content: center;background-color: white;position: relative;}#sk-container-id-2 div.sk-item::before, #sk-container-id-2 div.sk-parallel-item::before {content: \"\";position: absolute;border-left: 1px solid gray;box-sizing: border-box;top: 0;bottom: 0;left: 50%;z-index: -1;}#sk-container-id-2 div.sk-parallel-item {display: flex;flex-direction: column;z-index: 1;position: relative;background-color: white;}#sk-container-id-2 div.sk-parallel-item:first-child::after {align-self: flex-end;width: 50%;}#sk-container-id-2 div.sk-parallel-item:last-child::after {align-self: flex-start;width: 50%;}#sk-container-id-2 div.sk-parallel-item:only-child::after {width: 0;}#sk-container-id-2 div.sk-dashed-wrapped {border: 1px dashed gray;margin: 0 0.4em 0.5em 0.4em;box-sizing: border-box;padding-bottom: 0.4em;background-color: white;}#sk-container-id-2 div.sk-label label {font-family: monospace;font-weight: bold;display: inline-block;line-height: 1.2em;}#sk-container-id-2 div.sk-label-container {text-align: center;}#sk-container-id-2 div.sk-container {/* jupyter's `normalize.less` sets `[hidden] { display: none; }` but bootstrap.min.css set `[hidden] { display: none !important; }` so we also need the `!important` here to be able to override the default hidden behavior on the sphinx rendered scikit-learn.org. See: https://github.com/scikit-learn/scikit-learn/issues/21755 */display: inline-block !important;position: relative;}#sk-container-id-2 div.sk-text-repr-fallback {display: none;}</style><div id=\"sk-container-id-2\" class=\"sk-top-container\"><div class=\"sk-text-repr-fallback\"><pre>LogisticRegression()</pre><b>In a Jupyter environment, please rerun this cell to show the HTML representation or trust the notebook. <br />On GitHub, the HTML representation is unable to render, please try loading this page with nbviewer.org.</b></div><div class=\"sk-container\" hidden><div class=\"sk-item\"><div class=\"sk-estimator sk-toggleable\"><input class=\"sk-toggleable__control sk-hidden--visually\" id=\"sk-estimator-id-2\" type=\"checkbox\" checked><label for=\"sk-estimator-id-2\" class=\"sk-toggleable__label sk-toggleable__label-arrow\">LogisticRegression</label><div class=\"sk-toggleable__content\"><pre>LogisticRegression()</pre></div></div></div></div></div>"
      ],
      "text/plain": [
       "LogisticRegression()"
      ]
     },
     "execution_count": 31,
     "metadata": {},
     "output_type": "execute_result"
    }
   ],
   "source": [
    "logistic_model = LogisticRegression()\n",
    "logistic_model.fit(x_train,y_train)"
   ]
  },
  {
   "cell_type": "code",
   "execution_count": 33,
   "metadata": {},
   "outputs": [
    {
     "data": {
      "text/plain": [
       "<sklearn.metrics._plot.confusion_matrix.ConfusionMatrixDisplay at 0x24c8d128f40>"
      ]
     },
     "execution_count": 33,
     "metadata": {},
     "output_type": "execute_result"
    },
    {
     "data": {
      "image/png": "[encoded data removed]",
      "text/plain": [
       "<Figure size 432x288 with 2 Axes>"
      ]
     },
     "metadata": {
      "needs_background": "light"
     },
     "output_type": "display_data"
    }
   ],
   "source": [
    "plot_confusion_matrix(logistic_model,x_train,y_train)"
   ]
  },
  {
   "cell_type": "code",
   "execution_count": 34,
   "metadata": {},
   "outputs": [
    {
     "data": {
      "text/plain": [
       "<sklearn.metrics._plot.confusion_matrix.ConfusionMatrixDisplay at 0x24c8d186500>"
      ]
     },
     "execution_count": 34,
     "metadata": {},
     "output_type": "execute_result"
    },
    {
     "data": {
      "image/png": "[encoded data removed]",
      "text/plain": [
       "<Figure size 432x288 with 2 Axes>"
      ]
     },
     "metadata": {
      "needs_background": "light"
     },
     "output_type": "display_data"
    }
   ],
   "source": [
    "plot_confusion_matrix(logistic_model,x_test,y_test)"
   ]
  },
  {
   "cell_type": "code",
   "execution_count": 35,
   "metadata": {},
   "outputs": [
    {
     "data": {
      "text/plain": [
       "0.9155134317943947"
      ]
     },
     "execution_count": 35,
     "metadata": {},
     "output_type": "execute_result"
    }
   ],
   "source": [
    "logistic_model.score(x_test,y_test)"
   ]
  },
  {
   "cell_type": "code",
   "execution_count": 36,
   "metadata": {},
   "outputs": [
    {
     "name": "stdout",
     "output_type": "stream",
     "text": [
      "confustion matrix\n",
      " [[28570  1012]\n",
      " [ 2467  8077]]\n",
      "********************\n",
      "Accuracy 91.3298110950506\n",
      "********************\n",
      "classification report\n",
      "               precision    recall  f1-score   support\n",
      "\n",
      "           0       0.92      0.97      0.94     29582\n",
      "           1       0.89      0.77      0.82     10544\n",
      "\n",
      "    accuracy                           0.91     40126\n",
      "   macro avg       0.90      0.87      0.88     40126\n",
      "weighted avg       0.91      0.91      0.91     40126\n",
      "\n"
     ]
    }
   ],
   "source": [
    "# Training\n",
    "y_pred_train = logistic_model.predict(x_train)\n",
    "cnf_matrix = confusion_matrix(y_train,y_pred_train)\n",
    "print(\"confustion matrix\\n\",cnf_matrix)\n",
    "print(\"*\"*20)\n",
    "accuracy = accuracy_score(y_train,y_pred_train)*100\n",
    "print(\"Accuracy\",accuracy)\n",
    "print(\"*\"*20)\n",
    "clf_report = classification_report(y_train,y_pred_train)\n",
    "print(\"classification report\\n\",clf_report)"
   ]
  },
  {
   "cell_type": "code",
   "execution_count": 37,
   "metadata": {},
   "outputs": [
    {
     "name": "stdout",
     "output_type": "stream",
     "text": [
      "confustion matrix\n",
      " [[12244   435]\n",
      " [ 1018  3501]]\n",
      "********************\n",
      "Accuracy 91.55134317943947\n",
      "classification report\n",
      "               precision    recall  f1-score   support\n",
      "\n",
      "           0       0.92      0.97      0.94     12679\n",
      "           1       0.89      0.77      0.83      4519\n",
      "\n",
      "    accuracy                           0.92     17198\n",
      "   macro avg       0.91      0.87      0.89     17198\n",
      "weighted avg       0.91      0.92      0.91     17198\n",
      "\n"
     ]
    }
   ],
   "source": [
    "# Testing\n",
    "y_pred_test_lr = logistic_model.predict(x_test)\n",
    "cnf_matrix_lr = confusion_matrix(y_test,y_pred_test_lr)\n",
    "print(\"confustion matrix\\n\",cnf_matrix_lr)\n",
    "# cm = confusion_matrix(y_test, y_pred)\n",
    "print(\"*\"*20)\n",
    "accuracy = accuracy_score(y_test,y_pred_test_lr)*100\n",
    "print(\"Accuracy\",accuracy)\n",
    "\n",
    "clf_report = classification_report(y_test,y_pred_test_lr)\n",
    "print(\"classification report\\n\",clf_report)"
   ]
  },
  {
   "attachments": {},
   "cell_type": "markdown",
   "metadata": {},
   "source": [
    "##### Visualizing Confusion Matrix using Heatmap"
   ]
  },
  {
   "cell_type": "code",
   "execution_count": 38,
   "metadata": {},
   "outputs": [
    {
     "data": {
      "text/plain": [
       "Text(0.5, 257.44, 'Predicted label')"
      ]
     },
     "execution_count": 38,
     "metadata": {},
     "output_type": "execute_result"
    },
    {
     "data": {
      "image/png": "[encoded data removed]",
      "text/plain": [
       "<Figure size 432x288 with 2 Axes>"
      ]
     },
     "metadata": {
      "needs_background": "light"
     },
     "output_type": "display_data"
    }
   ],
   "source": [
    "# import required modules\n",
    "import numpy as np\n",
    "import matplotlib.pyplot as plt\n",
    "import seaborn as sns\n",
    "\n",
    "class_names=[0,1] # name  of classes\n",
    "fig, ax = plt.subplots()\n",
    "tick_marks = np.arange(len(class_names))\n",
    "plt.xticks(tick_marks, class_names)\n",
    "plt.yticks(tick_marks, class_names)\n",
    "# create heatmap\n",
    "sns.heatmap(pd.DataFrame(cnf_matrix_lr), annot=True, cmap=\"YlGnBu\" ,fmt='g')\n",
    "ax.xaxis.set_label_position(\"top\")\n",
    "plt.tight_layout()\n",
    "plt.title('Confusion matrix', y=1.1)\n",
    "plt.ylabel('Actual label')\n",
    "plt.xlabel('Predicted label')\n",
    "\n",
    "# Text(0.5,257.44,'Predicted label');"
   ]
  },
  {
   "attachments": {
    "image.png": {
     "image/png": "[encoded data removed]"
    }
   },
   "cell_type": "markdown",
   "metadata": {},
   "source": [
    "![image.png](attachment:image.png)"
   ]
  },
  {
   "cell_type": "code",
   "execution_count": 39,
   "metadata": {},
   "outputs": [],
   "source": [
    "TP = cnf_matrix[1,1]\n",
    "TN = cnf_matrix[1,1]\n",
    "FP = cnf_matrix[0,1]\n",
    "FN = cnf_matrix[1,0]"
   ]
  },
  {
   "cell_type": "code",
   "execution_count": 40,
   "metadata": {},
   "outputs": [],
   "source": [
    "# # print precision score\n",
    "# TP = cnf_matrix_lr[3,4]\n",
    "# precision = TP / float(TP + FP)\n",
    "\n",
    "# print('Precision : {0:0.4f}'.format(precision))"
   ]
  },
  {
   "cell_type": "code",
   "execution_count": 41,
   "metadata": {},
   "outputs": [
    {
     "data": {
      "text/plain": [
       "8077"
      ]
     },
     "execution_count": 41,
     "metadata": {},
     "output_type": "execute_result"
    }
   ],
   "source": [
    "TN = cnf_matrix[1,1]\n",
    "TN"
   ]
  },
  {
   "cell_type": "code",
   "execution_count": 42,
   "metadata": {},
   "outputs": [],
   "source": [
    "# ----------------------------------------------------------------------------------------------------------------------------"
   ]
  },
  {
   "cell_type": "code",
   "execution_count": 43,
   "metadata": {},
   "outputs": [],
   "source": [
    "from sklearn.linear_model import LogisticRegression\n",
    "classifier = LogisticRegression()"
   ]
  },
  {
   "cell_type": "code",
   "execution_count": 44,
   "metadata": {},
   "outputs": [],
   "source": [
    "from sklearn.model_selection import GridSearchCV\n",
    "parameter= {'penalty' : ['l1', 'l2', 'elasticnet'],'C':[1,2,3,4,5,6,7,8,9,10,20,30,40,50]}"
   ]
  },
  {
   "cell_type": "code",
   "execution_count": 45,
   "metadata": {},
   "outputs": [],
   "source": [
    "classifier_regressor= GridSearchCV(classifier,param_grid=parameter,scoring=\"accuracy\",cv=5)"
   ]
  },
  {
   "cell_type": "code",
   "execution_count": 46,
   "metadata": {},
   "outputs": [
    {
     "data": {
      "text/html": [
       "<style>#sk-container-id-3 {color: black;background-color: white;}#sk-container-id-3 pre{padding: 0;}#sk-container-id-3 div.sk-toggleable {background-color: white;}#sk-container-id-3 label.sk-toggleable__label {cursor: pointer;display: block;width: 100%;margin-bottom: 0;padding: 0.3em;box-sizing: border-box;text-align: center;}#sk-container-id-3 label.sk-toggleable__label-arrow:before {content: \"▸\";float: left;margin-right: 0.25em;color: #696969;}#sk-container-id-3 label.sk-toggleable__label-arrow:hover:before {color: black;}#sk-container-id-3 div.sk-estimator:hover label.sk-toggleable__label-arrow:before {color: black;}#sk-container-id-3 div.sk-toggleable__content {max-height: 0;max-width: 0;overflow: hidden;text-align: left;background-color: #f0f8ff;}#sk-container-id-3 div.sk-toggleable__content pre {margin: 0.2em;color: black;border-radius: 0.25em;background-color: #f0f8ff;}#sk-container-id-3 input.sk-toggleable__control:checked~div.sk-toggleable__content {max-height: 200px;max-width: 100%;overflow: auto;}#sk-container-id-3 input.sk-toggleable__control:checked~label.sk-toggleable__label-arrow:before {content: \"▾\";}#sk-container-id-3 div.sk-estimator input.sk-toggleable__control:checked~label.sk-toggleable__label {background-color: #d4ebff;}#sk-container-id-3 div.sk-label input.sk-toggleable__control:checked~label.sk-toggleable__label {background-color: #d4ebff;}#sk-container-id-3 input.sk-hidden--visually {border: 0;clip: rect(1px 1px 1px 1px);clip: rect(1px, 1px, 1px, 1px);height: 1px;margin: -1px;overflow: hidden;padding: 0;position: absolute;width: 1px;}#sk-container-id-3 div.sk-estimator {font-family: monospace;background-color: #f0f8ff;border: 1px dotted black;border-radius: 0.25em;box-sizing: border-box;margin-bottom: 0.5em;}#sk-container-id-3 div.sk-estimator:hover {background-color: #d4ebff;}#sk-container-id-3 div.sk-parallel-item::after {content: \"\";width: 100%;border-bottom: 1px solid gray;flex-grow: 1;}#sk-container-id-3 div.sk-label:hover label.sk-toggleable__label {background-color: #d4ebff;}#sk-container-id-3 div.sk-serial::before {content: \"\";position: absolute;border-left: 1px solid gray;box-sizing: border-box;top: 0;bottom: 0;left: 50%;z-index: 0;}#sk-container-id-3 div.sk-serial {display: flex;flex-direction: column;align-items: center;background-color: white;padding-right: 0.2em;padding-left: 0.2em;position: relative;}#sk-container-id-3 div.sk-item {position: relative;z-index: 1;}#sk-container-id-3 div.sk-parallel {display: flex;align-items: stretch;justify-content: center;background-color: white;position: relative;}#sk-container-id-3 div.sk-item::before, #sk-container-id-3 div.sk-parallel-item::before {content: \"\";position: absolute;border-left: 1px solid gray;box-sizing: border-box;top: 0;bottom: 0;left: 50%;z-index: -1;}#sk-container-id-3 div.sk-parallel-item {display: flex;flex-direction: column;z-index: 1;position: relative;background-color: white;}#sk-container-id-3 div.sk-parallel-item:first-child::after {align-self: flex-end;width: 50%;}#sk-container-id-3 div.sk-parallel-item:last-child::after {align-self: flex-start;width: 50%;}#sk-container-id-3 div.sk-parallel-item:only-child::after {width: 0;}#sk-container-id-3 div.sk-dashed-wrapped {border: 1px dashed gray;margin: 0 0.4em 0.5em 0.4em;box-sizing: border-box;padding-bottom: 0.4em;background-color: white;}#sk-container-id-3 div.sk-label label {font-family: monospace;font-weight: bold;display: inline-block;line-height: 1.2em;}#sk-container-id-3 div.sk-label-container {text-align: center;}#sk-container-id-3 div.sk-container {/* jupyter's `normalize.less` sets `[hidden] { display: none; }` but bootstrap.min.css set `[hidden] { display: none !important; }` so we also need the `!important` here to be able to override the default hidden behavior on the sphinx rendered scikit-learn.org. See: https://github.com/scikit-learn/scikit-learn/issues/21755 */display: inline-block !important;position: relative;}#sk-container-id-3 div.sk-text-repr-fallback {display: none;}</style><div id=\"sk-container-id-3\" class=\"sk-top-container\"><div class=\"sk-text-repr-fallback\"><pre>GridSearchCV(cv=5, estimator=LogisticRegression(),\n",
       "             param_grid={&#x27;C&#x27;: [1, 2, 3, 4, 5, 6, 7, 8, 9, 10, 20, 30, 40, 50],\n",
       "                         &#x27;penalty&#x27;: [&#x27;l1&#x27;, &#x27;l2&#x27;, &#x27;elasticnet&#x27;]},\n",
       "             scoring=&#x27;accuracy&#x27;)</pre><b>In a Jupyter environment, please rerun this cell to show the HTML representation or trust the notebook. <br />On GitHub, the HTML representation is unable to render, please try loading this page with nbviewer.org.</b></div><div class=\"sk-container\" hidden><div class=\"sk-item sk-dashed-wrapped\"><div class=\"sk-label-container\"><div class=\"sk-label sk-toggleable\"><input class=\"sk-toggleable__control sk-hidden--visually\" id=\"sk-estimator-id-3\" type=\"checkbox\" ><label for=\"sk-estimator-id-3\" class=\"sk-toggleable__label sk-toggleable__label-arrow\">GridSearchCV</label><div class=\"sk-toggleable__content\"><pre>GridSearchCV(cv=5, estimator=LogisticRegression(),\n",
       "             param_grid={&#x27;C&#x27;: [1, 2, 3, 4, 5, 6, 7, 8, 9, 10, 20, 30, 40, 50],\n",
       "                         &#x27;penalty&#x27;: [&#x27;l1&#x27;, &#x27;l2&#x27;, &#x27;elasticnet&#x27;]},\n",
       "             scoring=&#x27;accuracy&#x27;)</pre></div></div></div><div class=\"sk-parallel\"><div class=\"sk-parallel-item\"><div class=\"sk-item\"><div class=\"sk-label-container\"><div class=\"sk-label sk-toggleable\"><input class=\"sk-toggleable__control sk-hidden--visually\" id=\"sk-estimator-id-4\" type=\"checkbox\" ><label for=\"sk-estimator-id-4\" class=\"sk-toggleable__label sk-toggleable__label-arrow\">estimator: LogisticRegression</label><div class=\"sk-toggleable__content\"><pre>LogisticRegression()</pre></div></div></div><div class=\"sk-serial\"><div class=\"sk-item\"><div class=\"sk-estimator sk-toggleable\"><input class=\"sk-toggleable__control sk-hidden--visually\" id=\"sk-estimator-id-5\" type=\"checkbox\" ><label for=\"sk-estimator-id-5\" class=\"sk-toggleable__label sk-toggleable__label-arrow\">LogisticRegression</label><div class=\"sk-toggleable__content\"><pre>LogisticRegression()</pre></div></div></div></div></div></div></div></div></div></div>"
      ],
      "text/plain": [
       "GridSearchCV(cv=5, estimator=LogisticRegression(),\n",
       "             param_grid={'C': [1, 2, 3, 4, 5, 6, 7, 8, 9, 10, 20, 30, 40, 50],\n",
       "                         'penalty': ['l1', 'l2', 'elasticnet']},\n",
       "             scoring='accuracy')"
      ]
     },
     "execution_count": 46,
     "metadata": {},
     "output_type": "execute_result"
    }
   ],
   "source": [
    "classifier_regressor.fit(x_train,y_train)"
   ]
  },
  {
   "cell_type": "code",
   "execution_count": 47,
   "metadata": {},
   "outputs": [
    {
     "name": "stdout",
     "output_type": "stream",
     "text": [
      "{'C': 4, 'penalty': 'l2'}\n"
     ]
    }
   ],
   "source": [
    "print (classifier_regressor.best_params_)"
   ]
  },
  {
   "cell_type": "code",
   "execution_count": 48,
   "metadata": {},
   "outputs": [
    {
     "name": "stdout",
     "output_type": "stream",
     "text": [
      "0.9137218370513898\n"
     ]
    }
   ],
   "source": [
    "print (classifier_regressor.best_score_)"
   ]
  },
  {
   "cell_type": "code",
   "execution_count": 49,
   "metadata": {},
   "outputs": [],
   "source": [
    "# Prediction\n",
    "y_pred_logistic = classifier_regressor.predict(x_test)"
   ]
  },
  {
   "cell_type": "code",
   "execution_count": 50,
   "metadata": {},
   "outputs": [
    {
     "name": "stdout",
     "output_type": "stream",
     "text": [
      "[0 1 1 ... 1 0 0]\n"
     ]
    }
   ],
   "source": [
    "print(y_pred_logistic)"
   ]
  },
  {
   "cell_type": "code",
   "execution_count": 51,
   "metadata": {},
   "outputs": [
    {
     "name": "stdout",
     "output_type": "stream",
     "text": [
      "              precision    recall  f1-score   support\n",
      "\n",
      "           0       0.97      0.92      0.94     13250\n",
      "           1       0.78      0.89      0.83      3948\n",
      "\n",
      "    accuracy                           0.92     17198\n",
      "   macro avg       0.87      0.91      0.89     17198\n",
      "weighted avg       0.92      0.92      0.92     17198\n",
      "\n"
     ]
    }
   ],
   "source": [
    "# Accuracy score\n",
    "from sklearn.metrics import accuracy_score,classification_report\n",
    "print(classification_report (y_pred_logistic, y_test))"
   ]
  },
  {
   "cell_type": "code",
   "execution_count": 52,
   "metadata": {
    "scrolled": true
   },
   "outputs": [
    {
     "name": "stdout",
     "output_type": "stream",
     "text": [
      "91.58623095708803\n"
     ]
    }
   ],
   "source": [
    "score= accuracy_score(y_pred_logistic, y_test)*100\n",
    "print(score)"
   ]
  },
  {
   "cell_type": "code",
   "execution_count": null,
   "metadata": {},
   "outputs": [],
   "source": []
  },
  {
   "attachments": {},
   "cell_type": "markdown",
   "metadata": {},
   "source": [
    "Logistic Regression Model Fitting"
   ]
  },
  {
   "cell_type": "code",
   "execution_count": 53,
   "metadata": {},
   "outputs": [
    {
     "data": {
      "text/html": [
       "<style>#sk-container-id-4 {color: black;background-color: white;}#sk-container-id-4 pre{padding: 0;}#sk-container-id-4 div.sk-toggleable {background-color: white;}#sk-container-id-4 label.sk-toggleable__label {cursor: pointer;display: block;width: 100%;margin-bottom: 0;padding: 0.3em;box-sizing: border-box;text-align: center;}#sk-container-id-4 label.sk-toggleable__label-arrow:before {content: \"▸\";float: left;margin-right: 0.25em;color: #696969;}#sk-container-id-4 label.sk-toggleable__label-arrow:hover:before {color: black;}#sk-container-id-4 div.sk-estimator:hover label.sk-toggleable__label-arrow:before {color: black;}#sk-container-id-4 div.sk-toggleable__content {max-height: 0;max-width: 0;overflow: hidden;text-align: left;background-color: #f0f8ff;}#sk-container-id-4 div.sk-toggleable__content pre {margin: 0.2em;color: black;border-radius: 0.25em;background-color: #f0f8ff;}#sk-container-id-4 input.sk-toggleable__control:checked~div.sk-toggleable__content {max-height: 200px;max-width: 100%;overflow: auto;}#sk-container-id-4 input.sk-toggleable__control:checked~label.sk-toggleable__label-arrow:before {content: \"▾\";}#sk-container-id-4 div.sk-estimator input.sk-toggleable__control:checked~label.sk-toggleable__label {background-color: #d4ebff;}#sk-container-id-4 div.sk-label input.sk-toggleable__control:checked~label.sk-toggleable__label {background-color: #d4ebff;}#sk-container-id-4 input.sk-hidden--visually {border: 0;clip: rect(1px 1px 1px 1px);clip: rect(1px, 1px, 1px, 1px);height: 1px;margin: -1px;overflow: hidden;padding: 0;position: absolute;width: 1px;}#sk-container-id-4 div.sk-estimator {font-family: monospace;background-color: #f0f8ff;border: 1px dotted black;border-radius: 0.25em;box-sizing: border-box;margin-bottom: 0.5em;}#sk-container-id-4 div.sk-estimator:hover {background-color: #d4ebff;}#sk-container-id-4 div.sk-parallel-item::after {content: \"\";width: 100%;border-bottom: 1px solid gray;flex-grow: 1;}#sk-container-id-4 div.sk-label:hover label.sk-toggleable__label {background-color: #d4ebff;}#sk-container-id-4 div.sk-serial::before {content: \"\";position: absolute;border-left: 1px solid gray;box-sizing: border-box;top: 0;bottom: 0;left: 50%;z-index: 0;}#sk-container-id-4 div.sk-serial {display: flex;flex-direction: column;align-items: center;background-color: white;padding-right: 0.2em;padding-left: 0.2em;position: relative;}#sk-container-id-4 div.sk-item {position: relative;z-index: 1;}#sk-container-id-4 div.sk-parallel {display: flex;align-items: stretch;justify-content: center;background-color: white;position: relative;}#sk-container-id-4 div.sk-item::before, #sk-container-id-4 div.sk-parallel-item::before {content: \"\";position: absolute;border-left: 1px solid gray;box-sizing: border-box;top: 0;bottom: 0;left: 50%;z-index: -1;}#sk-container-id-4 div.sk-parallel-item {display: flex;flex-direction: column;z-index: 1;position: relative;background-color: white;}#sk-container-id-4 div.sk-parallel-item:first-child::after {align-self: flex-end;width: 50%;}#sk-container-id-4 div.sk-parallel-item:last-child::after {align-self: flex-start;width: 50%;}#sk-container-id-4 div.sk-parallel-item:only-child::after {width: 0;}#sk-container-id-4 div.sk-dashed-wrapped {border: 1px dashed gray;margin: 0 0.4em 0.5em 0.4em;box-sizing: border-box;padding-bottom: 0.4em;background-color: white;}#sk-container-id-4 div.sk-label label {font-family: monospace;font-weight: bold;display: inline-block;line-height: 1.2em;}#sk-container-id-4 div.sk-label-container {text-align: center;}#sk-container-id-4 div.sk-container {/* jupyter's `normalize.less` sets `[hidden] { display: none; }` but bootstrap.min.css set `[hidden] { display: none !important; }` so we also need the `!important` here to be able to override the default hidden behavior on the sphinx rendered scikit-learn.org. See: https://github.com/scikit-learn/scikit-learn/issues/21755 */display: inline-block !important;position: relative;}#sk-container-id-4 div.sk-text-repr-fallback {display: none;}</style><div id=\"sk-container-id-4\" class=\"sk-top-container\"><div class=\"sk-text-repr-fallback\"><pre>LogisticRegression()</pre><b>In a Jupyter environment, please rerun this cell to show the HTML representation or trust the notebook. <br />On GitHub, the HTML representation is unable to render, please try loading this page with nbviewer.org.</b></div><div class=\"sk-container\" hidden><div class=\"sk-item\"><div class=\"sk-estimator sk-toggleable\"><input class=\"sk-toggleable__control sk-hidden--visually\" id=\"sk-estimator-id-6\" type=\"checkbox\" checked><label for=\"sk-estimator-id-6\" class=\"sk-toggleable__label sk-toggleable__label-arrow\">LogisticRegression</label><div class=\"sk-toggleable__content\"><pre>LogisticRegression()</pre></div></div></div></div></div>"
      ],
      "text/plain": [
       "LogisticRegression()"
      ]
     },
     "execution_count": 53,
     "metadata": {},
     "output_type": "execute_result"
    }
   ],
   "source": [
    "from sklearn.linear_model import LogisticRegression\n",
    "from sklearn import metrics\n",
    "x_train, x_test, y_train, y_test = train_test_split(x, y, test_size=0.3, random_state=45)\n",
    "logreg = LogisticRegression()\n",
    "logreg.fit(x_train, y_train)\n"
   ]
  },
  {
   "cell_type": "code",
   "execution_count": 54,
   "metadata": {},
   "outputs": [
    {
     "name": "stdout",
     "output_type": "stream",
     "text": [
      "Accuracy of logistic regression classifier on test set: 0.91\n"
     ]
    }
   ],
   "source": [
    "# Predicting the test set results and calculating the accuracy\n",
    "\n",
    "y_pred = logreg.predict(x_test)\n",
    "print('Accuracy of logistic regression classifier on test set: {:.2f}'.format(logreg.score(x_test, y_test)))"
   ]
  },
  {
   "cell_type": "code",
   "execution_count": 55,
   "metadata": {
    "scrolled": true
   },
   "outputs": [
    {
     "name": "stdout",
     "output_type": "stream",
     "text": [
      "[[12246   465]\n",
      " [ 1060  3427]]\n"
     ]
    }
   ],
   "source": [
    "# Confusion Matrix\n",
    "\n",
    "\n",
    "from sklearn.metrics import confusion_matrix,roc_auc_score\n",
    "confusion_matrix = confusion_matrix(y_test, y_pred)\n",
    "print(confusion_matrix)"
   ]
  },
  {
   "cell_type": "code",
   "execution_count": 56,
   "metadata": {},
   "outputs": [
    {
     "name": "stdout",
     "output_type": "stream",
     "text": [
      "              precision    recall  f1-score   support\n",
      "\n",
      "           0       0.92      0.96      0.94     12711\n",
      "           1       0.88      0.76      0.82      4487\n",
      "\n",
      "    accuracy                           0.91     17198\n",
      "   macro avg       0.90      0.86      0.88     17198\n",
      "weighted avg       0.91      0.91      0.91     17198\n",
      "\n"
     ]
    }
   ],
   "source": [
    "from sklearn.metrics import classification_report\n",
    "print(classification_report(y_test, y_pred))"
   ]
  },
  {
   "cell_type": "code",
   "execution_count": null,
   "metadata": {},
   "outputs": [],
   "source": []
  },
  {
   "attachments": {},
   "cell_type": "markdown",
   "metadata": {},
   "source": [
    "### 2. Naive Bayes Classifier"
   ]
  },
  {
   "cell_type": "code",
   "execution_count": 57,
   "metadata": {},
   "outputs": [
    {
     "data": {
      "text/html": [
       "<style>#sk-container-id-5 {color: black;background-color: white;}#sk-container-id-5 pre{padding: 0;}#sk-container-id-5 div.sk-toggleable {background-color: white;}#sk-container-id-5 label.sk-toggleable__label {cursor: pointer;display: block;width: 100%;margin-bottom: 0;padding: 0.3em;box-sizing: border-box;text-align: center;}#sk-container-id-5 label.sk-toggleable__label-arrow:before {content: \"▸\";float: left;margin-right: 0.25em;color: #696969;}#sk-container-id-5 label.sk-toggleable__label-arrow:hover:before {color: black;}#sk-container-id-5 div.sk-estimator:hover label.sk-toggleable__label-arrow:before {color: black;}#sk-container-id-5 div.sk-toggleable__content {max-height: 0;max-width: 0;overflow: hidden;text-align: left;background-color: #f0f8ff;}#sk-container-id-5 div.sk-toggleable__content pre {margin: 0.2em;color: black;border-radius: 0.25em;background-color: #f0f8ff;}#sk-container-id-5 input.sk-toggleable__control:checked~div.sk-toggleable__content {max-height: 200px;max-width: 100%;overflow: auto;}#sk-container-id-5 input.sk-toggleable__control:checked~label.sk-toggleable__label-arrow:before {content: \"▾\";}#sk-container-id-5 div.sk-estimator input.sk-toggleable__control:checked~label.sk-toggleable__label {background-color: #d4ebff;}#sk-container-id-5 div.sk-label input.sk-toggleable__control:checked~label.sk-toggleable__label {background-color: #d4ebff;}#sk-container-id-5 input.sk-hidden--visually {border: 0;clip: rect(1px 1px 1px 1px);clip: rect(1px, 1px, 1px, 1px);height: 1px;margin: -1px;overflow: hidden;padding: 0;position: absolute;width: 1px;}#sk-container-id-5 div.sk-estimator {font-family: monospace;background-color: #f0f8ff;border: 1px dotted black;border-radius: 0.25em;box-sizing: border-box;margin-bottom: 0.5em;}#sk-container-id-5 div.sk-estimator:hover {background-color: #d4ebff;}#sk-container-id-5 div.sk-parallel-item::after {content: \"\";width: 100%;border-bottom: 1px solid gray;flex-grow: 1;}#sk-container-id-5 div.sk-label:hover label.sk-toggleable__label {background-color: #d4ebff;}#sk-container-id-5 div.sk-serial::before {content: \"\";position: absolute;border-left: 1px solid gray;box-sizing: border-box;top: 0;bottom: 0;left: 50%;z-index: 0;}#sk-container-id-5 div.sk-serial {display: flex;flex-direction: column;align-items: center;background-color: white;padding-right: 0.2em;padding-left: 0.2em;position: relative;}#sk-container-id-5 div.sk-item {position: relative;z-index: 1;}#sk-container-id-5 div.sk-parallel {display: flex;align-items: stretch;justify-content: center;background-color: white;position: relative;}#sk-container-id-5 div.sk-item::before, #sk-container-id-5 div.sk-parallel-item::before {content: \"\";position: absolute;border-left: 1px solid gray;box-sizing: border-box;top: 0;bottom: 0;left: 50%;z-index: -1;}#sk-container-id-5 div.sk-parallel-item {display: flex;flex-direction: column;z-index: 1;position: relative;background-color: white;}#sk-container-id-5 div.sk-parallel-item:first-child::after {align-self: flex-end;width: 50%;}#sk-container-id-5 div.sk-parallel-item:last-child::after {align-self: flex-start;width: 50%;}#sk-container-id-5 div.sk-parallel-item:only-child::after {width: 0;}#sk-container-id-5 div.sk-dashed-wrapped {border: 1px dashed gray;margin: 0 0.4em 0.5em 0.4em;box-sizing: border-box;padding-bottom: 0.4em;background-color: white;}#sk-container-id-5 div.sk-label label {font-family: monospace;font-weight: bold;display: inline-block;line-height: 1.2em;}#sk-container-id-5 div.sk-label-container {text-align: center;}#sk-container-id-5 div.sk-container {/* jupyter's `normalize.less` sets `[hidden] { display: none; }` but bootstrap.min.css set `[hidden] { display: none !important; }` so we also need the `!important` here to be able to override the default hidden behavior on the sphinx rendered scikit-learn.org. See: https://github.com/scikit-learn/scikit-learn/issues/21755 */display: inline-block !important;position: relative;}#sk-container-id-5 div.sk-text-repr-fallback {display: none;}</style><div id=\"sk-container-id-5\" class=\"sk-top-container\"><div class=\"sk-text-repr-fallback\"><pre>GaussianNB()</pre><b>In a Jupyter environment, please rerun this cell to show the HTML representation or trust the notebook. <br />On GitHub, the HTML representation is unable to render, please try loading this page with nbviewer.org.</b></div><div class=\"sk-container\" hidden><div class=\"sk-item\"><div class=\"sk-estimator sk-toggleable\"><input class=\"sk-toggleable__control sk-hidden--visually\" id=\"sk-estimator-id-7\" type=\"checkbox\" checked><label for=\"sk-estimator-id-7\" class=\"sk-toggleable__label sk-toggleable__label-arrow\">GaussianNB</label><div class=\"sk-toggleable__content\"><pre>GaussianNB()</pre></div></div></div></div></div>"
      ],
      "text/plain": [
       "GaussianNB()"
      ]
     },
     "execution_count": 57,
     "metadata": {},
     "output_type": "execute_result"
    }
   ],
   "source": [
    "# train a Gaussian Naive Bayes classifier on the training set\n",
    "from sklearn.naive_bayes import GaussianNB\n",
    "\n",
    "\n",
    "# instantiate the model\n",
    "gnb = GaussianNB()\n",
    "\n",
    "\n",
    "# fit the model\n",
    "gnb.fit(x_train, y_train)"
   ]
  },
  {
   "cell_type": "code",
   "execution_count": 58,
   "metadata": {},
   "outputs": [
    {
     "data": {
      "text/plain": [
       "array([0, 1, 0, ..., 0, 0, 0], dtype=int64)"
      ]
     },
     "execution_count": 58,
     "metadata": {},
     "output_type": "execute_result"
    }
   ],
   "source": [
    "# For Testing\n",
    "\n",
    "y_pred_test_nb = gnb.predict(x_test)\n",
    "\n",
    "y_pred_test_nb"
   ]
  },
  {
   "cell_type": "code",
   "execution_count": 59,
   "metadata": {},
   "outputs": [
    {
     "name": "stdout",
     "output_type": "stream",
     "text": [
      "Model accuracy score: 0.8589\n"
     ]
    }
   ],
   "source": [
    "# Checking accuracy score of test model\n",
    "\n",
    "from sklearn.metrics import accuracy_score\n",
    "\n",
    "print('Model accuracy score: {0:0.4f}'. format(accuracy_score(y_test, y_pred_test_nb)))"
   ]
  },
  {
   "cell_type": "code",
   "execution_count": 60,
   "metadata": {},
   "outputs": [
    {
     "data": {
      "text/plain": [
       "array([1, 0, 0, ..., 0, 1, 0], dtype=int64)"
      ]
     },
     "execution_count": 60,
     "metadata": {},
     "output_type": "execute_result"
    }
   ],
   "source": [
    "# For Training\n",
    "y_pred_train_nb = gnb.predict(x_train)\n",
    "\n",
    "y_pred_train_nb\n"
   ]
  },
  {
   "cell_type": "code",
   "execution_count": 61,
   "metadata": {},
   "outputs": [
    {
     "name": "stdout",
     "output_type": "stream",
     "text": [
      "Model accuracy score: 0.8671\n"
     ]
    }
   ],
   "source": [
    "# Checking accuracy score of train model\n",
    "\n",
    "print('Model accuracy score: {0:0.4f}'. format(accuracy_score(y_train, y_pred_train_nb)))"
   ]
  },
  {
   "attachments": {},
   "cell_type": "markdown",
   "metadata": {},
   "source": [
    "Check for overfitting and underfitting"
   ]
  },
  {
   "cell_type": "code",
   "execution_count": 62,
   "metadata": {},
   "outputs": [
    {
     "name": "stdout",
     "output_type": "stream",
     "text": [
      "Training score: 0.8671\n",
      "Testing score: 0.8589\n"
     ]
    }
   ],
   "source": [
    "# print the scores on train and test\n",
    "\n",
    "print('Training score: {:.4f}'.format(gnb.score(x_train, y_train)))\n",
    "\n",
    "print('Testing score: {:.4f}'.format(gnb.score(x_test, y_test)))"
   ]
  },
  {
   "cell_type": "code",
   "execution_count": 63,
   "metadata": {},
   "outputs": [
    {
     "data": {
      "text/plain": [
       "<AxesSubplot:>"
      ]
     },
     "execution_count": 63,
     "metadata": {},
     "output_type": "execute_result"
    },
    {
     "data": {
      "image/png": "[encoded data removed]",
      "text/plain": [
       "<Figure size 432x288 with 2 Axes>"
      ]
     },
     "metadata": {
      "needs_background": "light"
     },
     "output_type": "display_data"
    }
   ],
   "source": [
    "# Making the Confusion Matrix  \n",
    "from sklearn.metrics import confusion_matrix  \n",
    "cm = confusion_matrix(y_test, y_pred)  \n",
    "cm\n",
    "sns.heatmap(cm, annot=True)\n"
   ]
  },
  {
   "cell_type": "code",
   "execution_count": 64,
   "metadata": {},
   "outputs": [
    {
     "data": {
      "text/plain": [
       "array([0, 1, 0, ..., 0, 0, 0], dtype=int64)"
      ]
     },
     "execution_count": 64,
     "metadata": {},
     "output_type": "execute_result"
    }
   ],
   "source": [
    "# Predicting the Test set results  \n",
    "y_pred = gnb.predict(x_test)  \n",
    "y_pred"
   ]
  },
  {
   "attachments": {},
   "cell_type": "markdown",
   "metadata": {},
   "source": [
    "* Oberservation : The training accuracy score is 0.7898 while the test accuracy to be 0.0.7894. These two values are quite comparable. So, there is no sign of overfitting."
   ]
  },
  {
   "cell_type": "code",
   "execution_count": 65,
   "metadata": {},
   "outputs": [
    {
     "data": {
      "image/png": "[encoded data removed]",
      "text/plain": [
       "<Figure size 432x288 with 1 Axes>"
      ]
     },
     "metadata": {
      "needs_background": "light"
     },
     "output_type": "display_data"
    }
   ],
   "source": [
    "import numpy as np\n",
    "import matplotlib.pyplot as plt\n",
    "from sklearn.datasets import make_classification\n",
    "from sklearn.discriminant_analysis import QuadraticDiscriminantAnalysis\n",
    "\n",
    "# Generate synthetic data \n",
    "X, y = make_classification(\n",
    "    n_samples=100, n_features=2, n_informative=2, n_redundant=0, random_state=42\n",
    ")\n",
    "\n",
    "# Fit the QDA model\n",
    "qda = QuadraticDiscriminantAnalysis()\n",
    "qda.fit(X, y)\n",
    "\n",
    "# Create a mesh grid of points to evaluate the model over the entire feature space\n",
    "h = 0.02  # Step size of the mesh\n",
    "x_min, x_max = X[:, 0].min() - 1, X[:, 0].max() + 1\n",
    "y_min, y_max = X[:, 1].min() - 1, X[:, 1].max() + 1\n",
    "xx, yy = np.meshgrid(\n",
    "    np.arange(x_min, x_max, h),\n",
    "    np.arange(y_min, y_max, h)\n",
    ")\n",
    "\n",
    "# Make predictions on the mesh grid\n",
    "Z = qda.predict(np.c_[xx.ravel(), yy.ravel()])\n",
    "Z = Z.reshape(xx.shape)\n",
    "\n",
    "# Plot the decision boundaries\n",
    "plt.contourf(xx, yy, Z, alpha=0.8, cmap=plt.cm.RdYlBu)\n",
    "\n",
    "# Plot the data points\n",
    "plt.scatter(X[:, 0], X[:, 1], c=y, edgecolors='k', cmap=plt.cm.binary)\n",
    "plt.xlabel('Feature 1')\n",
    "plt.ylabel('Feature 2')\n",
    "plt.title('QDA Decision Boundaries')\n",
    "\n",
    "plt.show()\n"
   ]
  },
  {
   "attachments": {},
   "cell_type": "markdown",
   "metadata": {},
   "source": [
    "## Decision Tree Algorithm"
   ]
  },
  {
   "attachments": {},
   "cell_type": "markdown",
   "metadata": {},
   "source": [
    "#### Model Training "
   ]
  },
  {
   "cell_type": "code",
   "execution_count": 66,
   "metadata": {},
   "outputs": [
    {
     "data": {
      "text/html": [
       "<style>#sk-container-id-6 {color: black;background-color: white;}#sk-container-id-6 pre{padding: 0;}#sk-container-id-6 div.sk-toggleable {background-color: white;}#sk-container-id-6 label.sk-toggleable__label {cursor: pointer;display: block;width: 100%;margin-bottom: 0;padding: 0.3em;box-sizing: border-box;text-align: center;}#sk-container-id-6 label.sk-toggleable__label-arrow:before {content: \"▸\";float: left;margin-right: 0.25em;color: #696969;}#sk-container-id-6 label.sk-toggleable__label-arrow:hover:before {color: black;}#sk-container-id-6 div.sk-estimator:hover label.sk-toggleable__label-arrow:before {color: black;}#sk-container-id-6 div.sk-toggleable__content {max-height: 0;max-width: 0;overflow: hidden;text-align: left;background-color: #f0f8ff;}#sk-container-id-6 div.sk-toggleable__content pre {margin: 0.2em;color: black;border-radius: 0.25em;background-color: #f0f8ff;}#sk-container-id-6 input.sk-toggleable__control:checked~div.sk-toggleable__content {max-height: 200px;max-width: 100%;overflow: auto;}#sk-container-id-6 input.sk-toggleable__control:checked~label.sk-toggleable__label-arrow:before {content: \"▾\";}#sk-container-id-6 div.sk-estimator input.sk-toggleable__control:checked~label.sk-toggleable__label {background-color: #d4ebff;}#sk-container-id-6 div.sk-label input.sk-toggleable__control:checked~label.sk-toggleable__label {background-color: #d4ebff;}#sk-container-id-6 input.sk-hidden--visually {border: 0;clip: rect(1px 1px 1px 1px);clip: rect(1px, 1px, 1px, 1px);height: 1px;margin: -1px;overflow: hidden;padding: 0;position: absolute;width: 1px;}#sk-container-id-6 div.sk-estimator {font-family: monospace;background-color: #f0f8ff;border: 1px dotted black;border-radius: 0.25em;box-sizing: border-box;margin-bottom: 0.5em;}#sk-container-id-6 div.sk-estimator:hover {background-color: #d4ebff;}#sk-container-id-6 div.sk-parallel-item::after {content: \"\";width: 100%;border-bottom: 1px solid gray;flex-grow: 1;}#sk-container-id-6 div.sk-label:hover label.sk-toggleable__label {background-color: #d4ebff;}#sk-container-id-6 div.sk-serial::before {content: \"\";position: absolute;border-left: 1px solid gray;box-sizing: border-box;top: 0;bottom: 0;left: 50%;z-index: 0;}#sk-container-id-6 div.sk-serial {display: flex;flex-direction: column;align-items: center;background-color: white;padding-right: 0.2em;padding-left: 0.2em;position: relative;}#sk-container-id-6 div.sk-item {position: relative;z-index: 1;}#sk-container-id-6 div.sk-parallel {display: flex;align-items: stretch;justify-content: center;background-color: white;position: relative;}#sk-container-id-6 div.sk-item::before, #sk-container-id-6 div.sk-parallel-item::before {content: \"\";position: absolute;border-left: 1px solid gray;box-sizing: border-box;top: 0;bottom: 0;left: 50%;z-index: -1;}#sk-container-id-6 div.sk-parallel-item {display: flex;flex-direction: column;z-index: 1;position: relative;background-color: white;}#sk-container-id-6 div.sk-parallel-item:first-child::after {align-self: flex-end;width: 50%;}#sk-container-id-6 div.sk-parallel-item:last-child::after {align-self: flex-start;width: 50%;}#sk-container-id-6 div.sk-parallel-item:only-child::after {width: 0;}#sk-container-id-6 div.sk-dashed-wrapped {border: 1px dashed gray;margin: 0 0.4em 0.5em 0.4em;box-sizing: border-box;padding-bottom: 0.4em;background-color: white;}#sk-container-id-6 div.sk-label label {font-family: monospace;font-weight: bold;display: inline-block;line-height: 1.2em;}#sk-container-id-6 div.sk-label-container {text-align: center;}#sk-container-id-6 div.sk-container {/* jupyter's `normalize.less` sets `[hidden] { display: none; }` but bootstrap.min.css set `[hidden] { display: none !important; }` so we also need the `!important` here to be able to override the default hidden behavior on the sphinx rendered scikit-learn.org. See: https://github.com/scikit-learn/scikit-learn/issues/21755 */display: inline-block !important;position: relative;}#sk-container-id-6 div.sk-text-repr-fallback {display: none;}</style><div id=\"sk-container-id-6\" class=\"sk-top-container\"><div class=\"sk-text-repr-fallback\"><pre>DecisionTreeClassifier()</pre><b>In a Jupyter environment, please rerun this cell to show the HTML representation or trust the notebook. <br />On GitHub, the HTML representation is unable to render, please try loading this page with nbviewer.org.</b></div><div class=\"sk-container\" hidden><div class=\"sk-item\"><div class=\"sk-estimator sk-toggleable\"><input class=\"sk-toggleable__control sk-hidden--visually\" id=\"sk-estimator-id-8\" type=\"checkbox\" checked><label for=\"sk-estimator-id-8\" class=\"sk-toggleable__label sk-toggleable__label-arrow\">DecisionTreeClassifier</label><div class=\"sk-toggleable__content\"><pre>DecisionTreeClassifier()</pre></div></div></div></div></div>"
      ],
      "text/plain": [
       "DecisionTreeClassifier()"
      ]
     },
     "execution_count": 66,
     "metadata": {},
     "output_type": "execute_result"
    }
   ],
   "source": [
    "from sklearn.tree import DecisionTreeClassifier,plot_tree\n",
    "from sklearn.model_selection import train_test_split,GridSearchCV,RandomizedSearchCV\n",
    "from sklearn.metrics import accuracy_score,confusion_matrix,classification_report,roc_curve,roc_auc_score\n",
    "\n",
    "\n",
    "dt_clf = DecisionTreeClassifier()\n",
    "dt_clf.fit(x_train,y_train)"
   ]
  },
  {
   "attachments": {},
   "cell_type": "markdown",
   "metadata": {},
   "source": [
    "#### Model Evaluation"
   ]
  },
  {
   "cell_type": "code",
   "execution_count": 67,
   "metadata": {},
   "outputs": [
    {
     "name": "stdout",
     "output_type": "stream",
     "text": [
      "confusion metrics\n",
      " [[29550     0]\n",
      " [    0 10576]]\n",
      "accuarcy\n",
      " 1.0\n",
      "clf_report\n",
      "               precision    recall  f1-score   support\n",
      "\n",
      "           0       1.00      1.00      1.00     29550\n",
      "           1       1.00      1.00      1.00     10576\n",
      "\n",
      "    accuracy                           1.00     40126\n",
      "   macro avg       1.00      1.00      1.00     40126\n",
      "weighted avg       1.00      1.00      1.00     40126\n",
      "\n"
     ]
    }
   ],
   "source": [
    "# Training\n",
    "y_pred_train = dt_clf.predict(x_train)\n",
    "\n",
    "clf_matricx = confusion_matrix(y_train,y_pred_train)\n",
    "print(\"confusion metrics\\n\",clf_matricx)\n",
    "\n",
    "accuracy = accuracy_score(y_train,y_pred_train)\n",
    "print(\"accuarcy\\n\",accuracy)\n",
    "\n",
    "clf_report = classification_report(y_train,y_pred_train)\n",
    "print('clf_report\\n',clf_report)"
   ]
  },
  {
   "cell_type": "code",
   "execution_count": 68,
   "metadata": {},
   "outputs": [
    {
     "name": "stdout",
     "output_type": "stream",
     "text": [
      "confusion metrics\n",
      " [[12287   424]\n",
      " [  431  4056]]\n",
      "accuarcy\n",
      " 0.9502849168507966\n",
      "clf_report\n",
      "               precision    recall  f1-score   support\n",
      "\n",
      "           0       0.97      0.97      0.97     12711\n",
      "           1       0.91      0.90      0.90      4487\n",
      "\n",
      "    accuracy                           0.95     17198\n",
      "   macro avg       0.94      0.94      0.94     17198\n",
      "weighted avg       0.95      0.95      0.95     17198\n",
      "\n"
     ]
    }
   ],
   "source": [
    "# Testing\n",
    "y_pred_test = dt_clf.predict(x_test)\n",
    "\n",
    "clf_matricx = confusion_matrix(y_test,y_pred_test)\n",
    "print(\"confusion metrics\\n\",clf_matricx)\n",
    "\n",
    "accuracy = accuracy_score(y_test,y_pred_test)\n",
    "print(\"accuarcy\\n\",accuracy)\n",
    "\n",
    "clf_report = classification_report(y_test,y_pred_test)\n",
    "print('clf_report\\n',clf_report)"
   ]
  },
  {
   "attachments": {},
   "cell_type": "markdown",
   "metadata": {},
   "source": [
    "#### Hyperparamter Tuning"
   ]
  },
  {
   "cell_type": "code",
   "execution_count": 69,
   "metadata": {},
   "outputs": [],
   "source": [
    "# dt_model = DecisionTreeClassifier()\n",
    "# hyperparameter = {\"criterion\":[\"gini\",\"entropy\"],\n",
    "#                  \"random_state\":[45,41],\n",
    "#                  \"max_depth\":np.arange(3,8),\n",
    "#                  \"min_samples_split\":np.arange(2,20),\n",
    "#                  \"min_samples_leaf\":np.arange(2,15)}      \n",
    "# gscv_dt_clf = GridSearchCV(dt_model,hyperparameter,cv = 2)\n",
    "# gscv_dt_clf.fit(x_train,y_train)"
   ]
  },
  {
   "cell_type": "code",
   "execution_count": 70,
   "metadata": {},
   "outputs": [],
   "source": [
    "# gscv_dt_clf.best_estimator_"
   ]
  },
  {
   "cell_type": "code",
   "execution_count": 71,
   "metadata": {},
   "outputs": [],
   "source": [
    "# dt_clf = DecisionTreeClassifier(max_depth=7,min_samples_split=7, min_samples_leaf=5, random_state=45)\n",
    "# dt_clf.fit(x_train,y_train)\n",
    "\n",
    "# # Training\n",
    "# y_pred_train = dt_clf.predict(x_train)\n",
    "\n",
    "# clf_matricx = confusion_matrix(y_train,y_pred_train)\n",
    "# print(\"confusion metrics\\n\",clf_matricx)\n",
    "\n",
    "# accuracy = accuracy_score(y_train,y_pred_train)\n",
    "# print(\"accuarcy\\n\",accuracy)\n",
    "\n",
    "# clf_report = classification_report(y_train,y_pred_train)\n",
    "# print('clf_report\\n',clf_report)"
   ]
  },
  {
   "cell_type": "code",
   "execution_count": 72,
   "metadata": {},
   "outputs": [],
   "source": [
    "# # Testing\n",
    "# y_pred_test = dt_clf.predict(x_test)\n",
    "\n",
    "# clf_matricx = confusion_matrix(y_test,y_pred_test)\n",
    "# print(\"confusion metrics\\n\",clf_matricx)\n",
    "\n",
    "# accuracy = accuracy_score(y_test,y_pred_test)\n",
    "# print(\"accuarcy\\n\",accuracy)\n",
    "\n",
    "# clf_report = classification_report(y_test,y_pred_test)\n",
    "# print('clf_report\\n',clf_report)"
   ]
  },
  {
   "cell_type": "code",
   "execution_count": 73,
   "metadata": {},
   "outputs": [
    {
     "data": {
      "text/plain": [
       "0    42261\n",
       "1    15063\n",
       "Name: LoanStatus, dtype: int64"
      ]
     },
     "execution_count": 73,
     "metadata": {},
     "output_type": "execute_result"
    }
   ],
   "source": [
    "model_data['LoanStatus'].value_counts()"
   ]
  },
  {
   "attachments": {},
   "cell_type": "markdown",
   "metadata": {},
   "source": [
    "### 4.0 K-Nearest Neighbours\n",
    "\n"
   ]
  },
  {
   "cell_type": "code",
   "execution_count": 74,
   "metadata": {},
   "outputs": [
    {
     "data": {
      "text/html": [
       "<style>#sk-container-id-7 {color: black;background-color: white;}#sk-container-id-7 pre{padding: 0;}#sk-container-id-7 div.sk-toggleable {background-color: white;}#sk-container-id-7 label.sk-toggleable__label {cursor: pointer;display: block;width: 100%;margin-bottom: 0;padding: 0.3em;box-sizing: border-box;text-align: center;}#sk-container-id-7 label.sk-toggleable__label-arrow:before {content: \"▸\";float: left;margin-right: 0.25em;color: #696969;}#sk-container-id-7 label.sk-toggleable__label-arrow:hover:before {color: black;}#sk-container-id-7 div.sk-estimator:hover label.sk-toggleable__label-arrow:before {color: black;}#sk-container-id-7 div.sk-toggleable__content {max-height: 0;max-width: 0;overflow: hidden;text-align: left;background-color: #f0f8ff;}#sk-container-id-7 div.sk-toggleable__content pre {margin: 0.2em;color: black;border-radius: 0.25em;background-color: #f0f8ff;}#sk-container-id-7 input.sk-toggleable__control:checked~div.sk-toggleable__content {max-height: 200px;max-width: 100%;overflow: auto;}#sk-container-id-7 input.sk-toggleable__control:checked~label.sk-toggleable__label-arrow:before {content: \"▾\";}#sk-container-id-7 div.sk-estimator input.sk-toggleable__control:checked~label.sk-toggleable__label {background-color: #d4ebff;}#sk-container-id-7 div.sk-label input.sk-toggleable__control:checked~label.sk-toggleable__label {background-color: #d4ebff;}#sk-container-id-7 input.sk-hidden--visually {border: 0;clip: rect(1px 1px 1px 1px);clip: rect(1px, 1px, 1px, 1px);height: 1px;margin: -1px;overflow: hidden;padding: 0;position: absolute;width: 1px;}#sk-container-id-7 div.sk-estimator {font-family: monospace;background-color: #f0f8ff;border: 1px dotted black;border-radius: 0.25em;box-sizing: border-box;margin-bottom: 0.5em;}#sk-container-id-7 div.sk-estimator:hover {background-color: #d4ebff;}#sk-container-id-7 div.sk-parallel-item::after {content: \"\";width: 100%;border-bottom: 1px solid gray;flex-grow: 1;}#sk-container-id-7 div.sk-label:hover label.sk-toggleable__label {background-color: #d4ebff;}#sk-container-id-7 div.sk-serial::before {content: \"\";position: absolute;border-left: 1px solid gray;box-sizing: border-box;top: 0;bottom: 0;left: 50%;z-index: 0;}#sk-container-id-7 div.sk-serial {display: flex;flex-direction: column;align-items: center;background-color: white;padding-right: 0.2em;padding-left: 0.2em;position: relative;}#sk-container-id-7 div.sk-item {position: relative;z-index: 1;}#sk-container-id-7 div.sk-parallel {display: flex;align-items: stretch;justify-content: center;background-color: white;position: relative;}#sk-container-id-7 div.sk-item::before, #sk-container-id-7 div.sk-parallel-item::before {content: \"\";position: absolute;border-left: 1px solid gray;box-sizing: border-box;top: 0;bottom: 0;left: 50%;z-index: -1;}#sk-container-id-7 div.sk-parallel-item {display: flex;flex-direction: column;z-index: 1;position: relative;background-color: white;}#sk-container-id-7 div.sk-parallel-item:first-child::after {align-self: flex-end;width: 50%;}#sk-container-id-7 div.sk-parallel-item:last-child::after {align-self: flex-start;width: 50%;}#sk-container-id-7 div.sk-parallel-item:only-child::after {width: 0;}#sk-container-id-7 div.sk-dashed-wrapped {border: 1px dashed gray;margin: 0 0.4em 0.5em 0.4em;box-sizing: border-box;padding-bottom: 0.4em;background-color: white;}#sk-container-id-7 div.sk-label label {font-family: monospace;font-weight: bold;display: inline-block;line-height: 1.2em;}#sk-container-id-7 div.sk-label-container {text-align: center;}#sk-container-id-7 div.sk-container {/* jupyter's `normalize.less` sets `[hidden] { display: none; }` but bootstrap.min.css set `[hidden] { display: none !important; }` so we also need the `!important` here to be able to override the default hidden behavior on the sphinx rendered scikit-learn.org. See: https://github.com/scikit-learn/scikit-learn/issues/21755 */display: inline-block !important;position: relative;}#sk-container-id-7 div.sk-text-repr-fallback {display: none;}</style><div id=\"sk-container-id-7\" class=\"sk-top-container\"><div class=\"sk-text-repr-fallback\"><pre>KNeighborsClassifier()</pre><b>In a Jupyter environment, please rerun this cell to show the HTML representation or trust the notebook. <br />On GitHub, the HTML representation is unable to render, please try loading this page with nbviewer.org.</b></div><div class=\"sk-container\" hidden><div class=\"sk-item\"><div class=\"sk-estimator sk-toggleable\"><input class=\"sk-toggleable__control sk-hidden--visually\" id=\"sk-estimator-id-9\" type=\"checkbox\" checked><label for=\"sk-estimator-id-9\" class=\"sk-toggleable__label sk-toggleable__label-arrow\">KNeighborsClassifier</label><div class=\"sk-toggleable__content\"><pre>KNeighborsClassifier()</pre></div></div></div></div></div>"
      ],
      "text/plain": [
       "KNeighborsClassifier()"
      ]
     },
     "execution_count": 74,
     "metadata": {},
     "output_type": "execute_result"
    }
   ],
   "source": [
    "# Model Training\n",
    "from sklearn.neighbors import KNeighborsClassifier\n",
    "knn_clf = KNeighborsClassifier()    #  default = k=5 ,p=2\n",
    "knn_clf.fit(x_train,y_train)"
   ]
  },
  {
   "attachments": {},
   "cell_type": "markdown",
   "metadata": {},
   "source": [
    "## Evaluatution"
   ]
  },
  {
   "cell_type": "code",
   "execution_count": 75,
   "metadata": {},
   "outputs": [
    {
     "name": "stdout",
     "output_type": "stream",
     "text": [
      "confusion metrics\n",
      " [[12224   487]\n",
      " [  390  4097]]\n",
      "********************\n",
      "Accuracy\n",
      " 0.949005698337016\n",
      "********************\n",
      "Classification report\n",
      "               precision    recall  f1-score   support\n",
      "\n",
      "           0       0.97      0.96      0.97     12711\n",
      "           1       0.89      0.91      0.90      4487\n",
      "\n",
      "    accuracy                           0.95     17198\n",
      "   macro avg       0.93      0.94      0.93     17198\n",
      "weighted avg       0.95      0.95      0.95     17198\n",
      "\n"
     ]
    }
   ],
   "source": [
    "# Testing\n",
    "y_pred_test_knn = knn_clf.predict(x_test)\n",
    "\n",
    "cnf_metrics = confusion_matrix(y_test,y_pred_test_knn)\n",
    "print(\"confusion metrics\\n\",cnf_metrics)\n",
    "print(\"*\"*20)\n",
    "accuracy = accuracy_score(y_test,y_pred_test_knn)\n",
    "print(\"Accuracy\\n\",accuracy)\n",
    "print(\"*\"*20)\n",
    "clf_report = classification_report(y_test,y_pred_test_knn)\n",
    "print(\"Classification report\\n\",clf_report)"
   ]
  },
  {
   "cell_type": "code",
   "execution_count": 76,
   "metadata": {},
   "outputs": [
    {
     "name": "stdout",
     "output_type": "stream",
     "text": [
      "confusion metrics\n",
      " [[28625   925]\n",
      " [  740  9836]]\n",
      "********************\n",
      "Accuracy\n",
      " 0.958505707022878\n",
      "********************\n",
      "Classification report\n",
      "               precision    recall  f1-score   support\n",
      "\n",
      "           0       0.97      0.97      0.97     29550\n",
      "           1       0.91      0.93      0.92     10576\n",
      "\n",
      "    accuracy                           0.96     40126\n",
      "   macro avg       0.94      0.95      0.95     40126\n",
      "weighted avg       0.96      0.96      0.96     40126\n",
      "\n"
     ]
    }
   ],
   "source": [
    "# Training\n",
    "y_pred_train_knn = knn_clf.predict(x_train)\n",
    "\n",
    "cnf_metrics = confusion_matrix(y_train,y_pred_train_knn)\n",
    "print(\"confusion metrics\\n\",cnf_metrics)\n",
    "print(\"*\"*20)\n",
    "accuracy = accuracy_score(y_train,y_pred_train_knn)\n",
    "print(\"Accuracy\\n\",accuracy)\n",
    "print(\"*\"*20)\n",
    "clf_report = classification_report(y_train,y_pred_train_knn)\n",
    "print(\"Classification report\\n\",clf_report)"
   ]
  },
  {
   "cell_type": "code",
   "execution_count": null,
   "metadata": {},
   "outputs": [],
   "source": []
  },
  {
   "attachments": {},
   "cell_type": "markdown",
   "metadata": {},
   "source": [
    "### 5.0 Support Vector Machines"
   ]
  },
  {
   "attachments": {},
   "cell_type": "markdown",
   "metadata": {},
   "source": [
    "#### Model Training"
   ]
  },
  {
   "cell_type": "code",
   "execution_count": 77,
   "metadata": {},
   "outputs": [],
   "source": [
    "# SVM helps to find line or decision boundry is called as hyperplane"
   ]
  },
  {
   "cell_type": "code",
   "execution_count": 78,
   "metadata": {},
   "outputs": [
    {
     "data": {
      "text/html": [
       "<style>#sk-container-id-8 {color: black;background-color: white;}#sk-container-id-8 pre{padding: 0;}#sk-container-id-8 div.sk-toggleable {background-color: white;}#sk-container-id-8 label.sk-toggleable__label {cursor: pointer;display: block;width: 100%;margin-bottom: 0;padding: 0.3em;box-sizing: border-box;text-align: center;}#sk-container-id-8 label.sk-toggleable__label-arrow:before {content: \"▸\";float: left;margin-right: 0.25em;color: #696969;}#sk-container-id-8 label.sk-toggleable__label-arrow:hover:before {color: black;}#sk-container-id-8 div.sk-estimator:hover label.sk-toggleable__label-arrow:before {color: black;}#sk-container-id-8 div.sk-toggleable__content {max-height: 0;max-width: 0;overflow: hidden;text-align: left;background-color: #f0f8ff;}#sk-container-id-8 div.sk-toggleable__content pre {margin: 0.2em;color: black;border-radius: 0.25em;background-color: #f0f8ff;}#sk-container-id-8 input.sk-toggleable__control:checked~div.sk-toggleable__content {max-height: 200px;max-width: 100%;overflow: auto;}#sk-container-id-8 input.sk-toggleable__control:checked~label.sk-toggleable__label-arrow:before {content: \"▾\";}#sk-container-id-8 div.sk-estimator input.sk-toggleable__control:checked~label.sk-toggleable__label {background-color: #d4ebff;}#sk-container-id-8 div.sk-label input.sk-toggleable__control:checked~label.sk-toggleable__label {background-color: #d4ebff;}#sk-container-id-8 input.sk-hidden--visually {border: 0;clip: rect(1px 1px 1px 1px);clip: rect(1px, 1px, 1px, 1px);height: 1px;margin: -1px;overflow: hidden;padding: 0;position: absolute;width: 1px;}#sk-container-id-8 div.sk-estimator {font-family: monospace;background-color: #f0f8ff;border: 1px dotted black;border-radius: 0.25em;box-sizing: border-box;margin-bottom: 0.5em;}#sk-container-id-8 div.sk-estimator:hover {background-color: #d4ebff;}#sk-container-id-8 div.sk-parallel-item::after {content: \"\";width: 100%;border-bottom: 1px solid gray;flex-grow: 1;}#sk-container-id-8 div.sk-label:hover label.sk-toggleable__label {background-color: #d4ebff;}#sk-container-id-8 div.sk-serial::before {content: \"\";position: absolute;border-left: 1px solid gray;box-sizing: border-box;top: 0;bottom: 0;left: 50%;z-index: 0;}#sk-container-id-8 div.sk-serial {display: flex;flex-direction: column;align-items: center;background-color: white;padding-right: 0.2em;padding-left: 0.2em;position: relative;}#sk-container-id-8 div.sk-item {position: relative;z-index: 1;}#sk-container-id-8 div.sk-parallel {display: flex;align-items: stretch;justify-content: center;background-color: white;position: relative;}#sk-container-id-8 div.sk-item::before, #sk-container-id-8 div.sk-parallel-item::before {content: \"\";position: absolute;border-left: 1px solid gray;box-sizing: border-box;top: 0;bottom: 0;left: 50%;z-index: -1;}#sk-container-id-8 div.sk-parallel-item {display: flex;flex-direction: column;z-index: 1;position: relative;background-color: white;}#sk-container-id-8 div.sk-parallel-item:first-child::after {align-self: flex-end;width: 50%;}#sk-container-id-8 div.sk-parallel-item:last-child::after {align-self: flex-start;width: 50%;}#sk-container-id-8 div.sk-parallel-item:only-child::after {width: 0;}#sk-container-id-8 div.sk-dashed-wrapped {border: 1px dashed gray;margin: 0 0.4em 0.5em 0.4em;box-sizing: border-box;padding-bottom: 0.4em;background-color: white;}#sk-container-id-8 div.sk-label label {font-family: monospace;font-weight: bold;display: inline-block;line-height: 1.2em;}#sk-container-id-8 div.sk-label-container {text-align: center;}#sk-container-id-8 div.sk-container {/* jupyter's `normalize.less` sets `[hidden] { display: none; }` but bootstrap.min.css set `[hidden] { display: none !important; }` so we also need the `!important` here to be able to override the default hidden behavior on the sphinx rendered scikit-learn.org. See: https://github.com/scikit-learn/scikit-learn/issues/21755 */display: inline-block !important;position: relative;}#sk-container-id-8 div.sk-text-repr-fallback {display: none;}</style><div id=\"sk-container-id-8\" class=\"sk-top-container\"><div class=\"sk-text-repr-fallback\"><pre>SVC()</pre><b>In a Jupyter environment, please rerun this cell to show the HTML representation or trust the notebook. <br />On GitHub, the HTML representation is unable to render, please try loading this page with nbviewer.org.</b></div><div class=\"sk-container\" hidden><div class=\"sk-item\"><div class=\"sk-estimator sk-toggleable\"><input class=\"sk-toggleable__control sk-hidden--visually\" id=\"sk-estimator-id-10\" type=\"checkbox\" checked><label for=\"sk-estimator-id-10\" class=\"sk-toggleable__label sk-toggleable__label-arrow\">SVC</label><div class=\"sk-toggleable__content\"><pre>SVC()</pre></div></div></div></div></div>"
      ],
      "text/plain": [
       "SVC()"
      ]
     },
     "execution_count": 78,
     "metadata": {},
     "output_type": "execute_result"
    }
   ],
   "source": [
    "from sklearn.svm import SVC\n",
    "\n",
    "svc_model = SVC()\n",
    "svc_model.fit(x_train,y_train)"
   ]
  },
  {
   "cell_type": "code",
   "execution_count": 79,
   "metadata": {},
   "outputs": [
    {
     "name": "stdout",
     "output_type": "stream",
     "text": [
      "Accuracy 0.9285963484126061\n",
      "confusion_metrix\n",
      " [[12247   464]\n",
      " [  764  3723]]\n",
      "classification report\n",
      "               precision    recall  f1-score   support\n",
      "\n",
      "           0       0.94      0.96      0.95     12711\n",
      "           1       0.89      0.83      0.86      4487\n",
      "\n",
      "    accuracy                           0.93     17198\n",
      "   macro avg       0.92      0.90      0.91     17198\n",
      "weighted avg       0.93      0.93      0.93     17198\n",
      "\n"
     ]
    }
   ],
   "source": [
    "# testing\n",
    "y_pred_svc = svc_model.predict(x_test)\n",
    "accuracy = accuracy_score(y_test,y_pred_svc)\n",
    "print(\"Accuracy\",accuracy)\n",
    "cnf_matrix = confusion_matrix(y_test,y_pred_svc)\n",
    "print(\"confusion_metrix\\n\",cnf_matrix)\n",
    "clf_report = classification_report(y_test,y_pred_svc)\n",
    "print(\"classification report\\n\",clf_report)"
   ]
  },
  {
   "cell_type": "code",
   "execution_count": 80,
   "metadata": {},
   "outputs": [
    {
     "name": "stdout",
     "output_type": "stream",
     "text": [
      "Accuracy 0.9330359367990829\n",
      "confusion_metrix\n",
      " [[28567   983]\n",
      " [ 1704  8872]]\n",
      "classification report\n",
      "               precision    recall  f1-score   support\n",
      "\n",
      "           0       0.94      0.97      0.96     29550\n",
      "           1       0.90      0.84      0.87     10576\n",
      "\n",
      "    accuracy                           0.93     40126\n",
      "   macro avg       0.92      0.90      0.91     40126\n",
      "weighted avg       0.93      0.93      0.93     40126\n",
      "\n"
     ]
    }
   ],
   "source": [
    "# Training\n",
    "y_pred_train_svc = svc_model.predict(x_train)\n",
    "accuracy = accuracy_score(y_train,y_pred_train_svc)\n",
    "print(\"Accuracy\",accuracy)\n",
    "cnf_matrix = confusion_matrix(y_train,y_pred_train_svc)\n",
    "print(\"confusion_metrix\\n\",cnf_matrix)\n",
    "clf_report = classification_report(y_train,y_pred_train_svc)\n",
    "print(\"classification report\\n\",clf_report)"
   ]
  },
  {
   "cell_type": "code",
   "execution_count": null,
   "metadata": {},
   "outputs": [],
   "source": []
  },
  {
   "attachments": {},
   "cell_type": "markdown",
   "metadata": {},
   "source": [
    "#### 6.0 Random Forest Classification"
   ]
  },
  {
   "cell_type": "code",
   "execution_count": 81,
   "metadata": {},
   "outputs": [
    {
     "data": {
      "text/html": [
       "<style>#sk-container-id-9 {color: black;background-color: white;}#sk-container-id-9 pre{padding: 0;}#sk-container-id-9 div.sk-toggleable {background-color: white;}#sk-container-id-9 label.sk-toggleable__label {cursor: pointer;display: block;width: 100%;margin-bottom: 0;padding: 0.3em;box-sizing: border-box;text-align: center;}#sk-container-id-9 label.sk-toggleable__label-arrow:before {content: \"▸\";float: left;margin-right: 0.25em;color: #696969;}#sk-container-id-9 label.sk-toggleable__label-arrow:hover:before {color: black;}#sk-container-id-9 div.sk-estimator:hover label.sk-toggleable__label-arrow:before {color: black;}#sk-container-id-9 div.sk-toggleable__content {max-height: 0;max-width: 0;overflow: hidden;text-align: left;background-color: #f0f8ff;}#sk-container-id-9 div.sk-toggleable__content pre {margin: 0.2em;color: black;border-radius: 0.25em;background-color: #f0f8ff;}#sk-container-id-9 input.sk-toggleable__control:checked~div.sk-toggleable__content {max-height: 200px;max-width: 100%;overflow: auto;}#sk-container-id-9 input.sk-toggleable__control:checked~label.sk-toggleable__label-arrow:before {content: \"▾\";}#sk-container-id-9 div.sk-estimator input.sk-toggleable__control:checked~label.sk-toggleable__label {background-color: #d4ebff;}#sk-container-id-9 div.sk-label input.sk-toggleable__control:checked~label.sk-toggleable__label {background-color: #d4ebff;}#sk-container-id-9 input.sk-hidden--visually {border: 0;clip: rect(1px 1px 1px 1px);clip: rect(1px, 1px, 1px, 1px);height: 1px;margin: -1px;overflow: hidden;padding: 0;position: absolute;width: 1px;}#sk-container-id-9 div.sk-estimator {font-family: monospace;background-color: #f0f8ff;border: 1px dotted black;border-radius: 0.25em;box-sizing: border-box;margin-bottom: 0.5em;}#sk-container-id-9 div.sk-estimator:hover {background-color: #d4ebff;}#sk-container-id-9 div.sk-parallel-item::after {content: \"\";width: 100%;border-bottom: 1px solid gray;flex-grow: 1;}#sk-container-id-9 div.sk-label:hover label.sk-toggleable__label {background-color: #d4ebff;}#sk-container-id-9 div.sk-serial::before {content: \"\";position: absolute;border-left: 1px solid gray;box-sizing: border-box;top: 0;bottom: 0;left: 50%;z-index: 0;}#sk-container-id-9 div.sk-serial {display: flex;flex-direction: column;align-items: center;background-color: white;padding-right: 0.2em;padding-left: 0.2em;position: relative;}#sk-container-id-9 div.sk-item {position: relative;z-index: 1;}#sk-container-id-9 div.sk-parallel {display: flex;align-items: stretch;justify-content: center;background-color: white;position: relative;}#sk-container-id-9 div.sk-item::before, #sk-container-id-9 div.sk-parallel-item::before {content: \"\";position: absolute;border-left: 1px solid gray;box-sizing: border-box;top: 0;bottom: 0;left: 50%;z-index: -1;}#sk-container-id-9 div.sk-parallel-item {display: flex;flex-direction: column;z-index: 1;position: relative;background-color: white;}#sk-container-id-9 div.sk-parallel-item:first-child::after {align-self: flex-end;width: 50%;}#sk-container-id-9 div.sk-parallel-item:last-child::after {align-self: flex-start;width: 50%;}#sk-container-id-9 div.sk-parallel-item:only-child::after {width: 0;}#sk-container-id-9 div.sk-dashed-wrapped {border: 1px dashed gray;margin: 0 0.4em 0.5em 0.4em;box-sizing: border-box;padding-bottom: 0.4em;background-color: white;}#sk-container-id-9 div.sk-label label {font-family: monospace;font-weight: bold;display: inline-block;line-height: 1.2em;}#sk-container-id-9 div.sk-label-container {text-align: center;}#sk-container-id-9 div.sk-container {/* jupyter's `normalize.less` sets `[hidden] { display: none; }` but bootstrap.min.css set `[hidden] { display: none !important; }` so we also need the `!important` here to be able to override the default hidden behavior on the sphinx rendered scikit-learn.org. See: https://github.com/scikit-learn/scikit-learn/issues/21755 */display: inline-block !important;position: relative;}#sk-container-id-9 div.sk-text-repr-fallback {display: none;}</style><div id=\"sk-container-id-9\" class=\"sk-top-container\"><div class=\"sk-text-repr-fallback\"><pre>RandomForestClassifier()</pre><b>In a Jupyter environment, please rerun this cell to show the HTML representation or trust the notebook. <br />On GitHub, the HTML representation is unable to render, please try loading this page with nbviewer.org.</b></div><div class=\"sk-container\" hidden><div class=\"sk-item\"><div class=\"sk-estimator sk-toggleable\"><input class=\"sk-toggleable__control sk-hidden--visually\" id=\"sk-estimator-id-11\" type=\"checkbox\" checked><label for=\"sk-estimator-id-11\" class=\"sk-toggleable__label sk-toggleable__label-arrow\">RandomForestClassifier</label><div class=\"sk-toggleable__content\"><pre>RandomForestClassifier()</pre></div></div></div></div></div>"
      ],
      "text/plain": [
       "RandomForestClassifier()"
      ]
     },
     "execution_count": 81,
     "metadata": {},
     "output_type": "execute_result"
    }
   ],
   "source": [
    "from sklearn.ensemble import RandomForestClassifier,RandomForestRegressor\n",
    "from imblearn.over_sampling import SMOTE\n",
    "\n",
    "rf_clf = RandomForestClassifier()\n",
    "rf_clf.fit(x_train,y_train)"
   ]
  },
  {
   "cell_type": "code",
   "execution_count": 82,
   "metadata": {},
   "outputs": [
    {
     "name": "stdout",
     "output_type": "stream",
     "text": [
      "accuracy 0.9678450982672404\n",
      "classification report\n",
      "               precision    recall  f1-score   support\n",
      "\n",
      "           0       1.00      0.96      0.98     12711\n",
      "           1       0.89      0.99      0.94      4487\n",
      "\n",
      "    accuracy                           0.97     17198\n",
      "   macro avg       0.95      0.98      0.96     17198\n",
      "weighted avg       0.97      0.97      0.97     17198\n",
      "\n"
     ]
    }
   ],
   "source": [
    "#testing\n",
    "y_pred_test_rfc = rf_clf.predict(x_test)\n",
    "accuracy = accuracy_score(y_test,y_pred_test_rfc)\n",
    "print(\"accuracy\",accuracy)\n",
    "clf_report = classification_report(y_test,y_pred_test_rfc)\n",
    "print(\"classification report\\n\",clf_report)"
   ]
  },
  {
   "cell_type": "code",
   "execution_count": 83,
   "metadata": {},
   "outputs": [
    {
     "name": "stdout",
     "output_type": "stream",
     "text": [
      "accuracy 1.0\n",
      "classification report\n",
      "               precision    recall  f1-score   support\n",
      "\n",
      "           0       1.00      1.00      1.00     29550\n",
      "           1       1.00      1.00      1.00     10576\n",
      "\n",
      "    accuracy                           1.00     40126\n",
      "   macro avg       1.00      1.00      1.00     40126\n",
      "weighted avg       1.00      1.00      1.00     40126\n",
      "\n"
     ]
    }
   ],
   "source": [
    "#training\n",
    "y_pred_train_rfc = rf_clf.predict(x_train)\n",
    "accuracy = accuracy_score(y_train,y_pred_train_rfc)\n",
    "print(\"accuracy\",accuracy)\n",
    "clf_report = classification_report(y_train,y_pred_train_rfc)\n",
    "print(\"classification report\\n\",clf_report)"
   ]
  },
  {
   "attachments": {},
   "cell_type": "markdown",
   "metadata": {},
   "source": [
    "#### 7.0 Ada Boost"
   ]
  },
  {
   "cell_type": "code",
   "execution_count": 84,
   "metadata": {},
   "outputs": [
    {
     "data": {
      "text/html": [
       "<style>#sk-container-id-10 {color: black;background-color: white;}#sk-container-id-10 pre{padding: 0;}#sk-container-id-10 div.sk-toggleable {background-color: white;}#sk-container-id-10 label.sk-toggleable__label {cursor: pointer;display: block;width: 100%;margin-bottom: 0;padding: 0.3em;box-sizing: border-box;text-align: center;}#sk-container-id-10 label.sk-toggleable__label-arrow:before {content: \"▸\";float: left;margin-right: 0.25em;color: #696969;}#sk-container-id-10 label.sk-toggleable__label-arrow:hover:before {color: black;}#sk-container-id-10 div.sk-estimator:hover label.sk-toggleable__label-arrow:before {color: black;}#sk-container-id-10 div.sk-toggleable__content {max-height: 0;max-width: 0;overflow: hidden;text-align: left;background-color: #f0f8ff;}#sk-container-id-10 div.sk-toggleable__content pre {margin: 0.2em;color: black;border-radius: 0.25em;background-color: #f0f8ff;}#sk-container-id-10 input.sk-toggleable__control:checked~div.sk-toggleable__content {max-height: 200px;max-width: 100%;overflow: auto;}#sk-container-id-10 input.sk-toggleable__control:checked~label.sk-toggleable__label-arrow:before {content: \"▾\";}#sk-container-id-10 div.sk-estimator input.sk-toggleable__control:checked~label.sk-toggleable__label {background-color: #d4ebff;}#sk-container-id-10 div.sk-label input.sk-toggleable__control:checked~label.sk-toggleable__label {background-color: #d4ebff;}#sk-container-id-10 input.sk-hidden--visually {border: 0;clip: rect(1px 1px 1px 1px);clip: rect(1px, 1px, 1px, 1px);height: 1px;margin: -1px;overflow: hidden;padding: 0;position: absolute;width: 1px;}#sk-container-id-10 div.sk-estimator {font-family: monospace;background-color: #f0f8ff;border: 1px dotted black;border-radius: 0.25em;box-sizing: border-box;margin-bottom: 0.5em;}#sk-container-id-10 div.sk-estimator:hover {background-color: #d4ebff;}#sk-container-id-10 div.sk-parallel-item::after {content: \"\";width: 100%;border-bottom: 1px solid gray;flex-grow: 1;}#sk-container-id-10 div.sk-label:hover label.sk-toggleable__label {background-color: #d4ebff;}#sk-container-id-10 div.sk-serial::before {content: \"\";position: absolute;border-left: 1px solid gray;box-sizing: border-box;top: 0;bottom: 0;left: 50%;z-index: 0;}#sk-container-id-10 div.sk-serial {display: flex;flex-direction: column;align-items: center;background-color: white;padding-right: 0.2em;padding-left: 0.2em;position: relative;}#sk-container-id-10 div.sk-item {position: relative;z-index: 1;}#sk-container-id-10 div.sk-parallel {display: flex;align-items: stretch;justify-content: center;background-color: white;position: relative;}#sk-container-id-10 div.sk-item::before, #sk-container-id-10 div.sk-parallel-item::before {content: \"\";position: absolute;border-left: 1px solid gray;box-sizing: border-box;top: 0;bottom: 0;left: 50%;z-index: -1;}#sk-container-id-10 div.sk-parallel-item {display: flex;flex-direction: column;z-index: 1;position: relative;background-color: white;}#sk-container-id-10 div.sk-parallel-item:first-child::after {align-self: flex-end;width: 50%;}#sk-container-id-10 div.sk-parallel-item:last-child::after {align-self: flex-start;width: 50%;}#sk-container-id-10 div.sk-parallel-item:only-child::after {width: 0;}#sk-container-id-10 div.sk-dashed-wrapped {border: 1px dashed gray;margin: 0 0.4em 0.5em 0.4em;box-sizing: border-box;padding-bottom: 0.4em;background-color: white;}#sk-container-id-10 div.sk-label label {font-family: monospace;font-weight: bold;display: inline-block;line-height: 1.2em;}#sk-container-id-10 div.sk-label-container {text-align: center;}#sk-container-id-10 div.sk-container {/* jupyter's `normalize.less` sets `[hidden] { display: none; }` but bootstrap.min.css set `[hidden] { display: none !important; }` so we also need the `!important` here to be able to override the default hidden behavior on the sphinx rendered scikit-learn.org. See: https://github.com/scikit-learn/scikit-learn/issues/21755 */display: inline-block !important;position: relative;}#sk-container-id-10 div.sk-text-repr-fallback {display: none;}</style><div id=\"sk-container-id-10\" class=\"sk-top-container\"><div class=\"sk-text-repr-fallback\"><pre>AdaBoostClassifier()</pre><b>In a Jupyter environment, please rerun this cell to show the HTML representation or trust the notebook. <br />On GitHub, the HTML representation is unable to render, please try loading this page with nbviewer.org.</b></div><div class=\"sk-container\" hidden><div class=\"sk-item\"><div class=\"sk-estimator sk-toggleable\"><input class=\"sk-toggleable__control sk-hidden--visually\" id=\"sk-estimator-id-12\" type=\"checkbox\" checked><label for=\"sk-estimator-id-12\" class=\"sk-toggleable__label sk-toggleable__label-arrow\">AdaBoostClassifier</label><div class=\"sk-toggleable__content\"><pre>AdaBoostClassifier()</pre></div></div></div></div></div>"
      ],
      "text/plain": [
       "AdaBoostClassifier()"
      ]
     },
     "execution_count": 84,
     "metadata": {},
     "output_type": "execute_result"
    }
   ],
   "source": [
    "from sklearn.ensemble import AdaBoostClassifier\n",
    "\n",
    "adb = AdaBoostClassifier()\n",
    "adb.fit(x_train,y_train)"
   ]
  },
  {
   "cell_type": "code",
   "execution_count": 85,
   "metadata": {},
   "outputs": [
    {
     "name": "stdout",
     "output_type": "stream",
     "text": [
      "accuracy 0.966333294569136\n",
      "classification report\n",
      "               precision    recall  f1-score   support\n",
      "\n",
      "           0       1.00      0.96      0.98     12711\n",
      "           1       0.89      0.99      0.94      4487\n",
      "\n",
      "    accuracy                           0.97     17198\n",
      "   macro avg       0.94      0.97      0.96     17198\n",
      "weighted avg       0.97      0.97      0.97     17198\n",
      "\n"
     ]
    }
   ],
   "source": [
    "#testing\n",
    "y_pred_test_ada = adb.predict(x_test)\n",
    "accuracy = accuracy_score(y_test,y_pred_test_ada)\n",
    "print(\"accuracy\",accuracy)\n",
    "clf_report = classification_report(y_test,y_pred_test_ada)\n",
    "print(\"classification report\\n\",clf_report)"
   ]
  },
  {
   "cell_type": "code",
   "execution_count": 86,
   "metadata": {},
   "outputs": [
    {
     "name": "stdout",
     "output_type": "stream",
     "text": [
      "accuracy 0.9683746199471664\n",
      "classification report\n",
      "               precision    recall  f1-score   support\n",
      "\n",
      "           0       1.00      0.96      0.98     29550\n",
      "           1       0.90      0.99      0.94     10576\n",
      "\n",
      "    accuracy                           0.97     40126\n",
      "   macro avg       0.95      0.98      0.96     40126\n",
      "weighted avg       0.97      0.97      0.97     40126\n",
      "\n"
     ]
    }
   ],
   "source": [
    "#training\n",
    "y_pred_train_ada = adb.predict(x_train)\n",
    "accuracy = accuracy_score(y_train,y_pred_train_ada)\n",
    "print(\"accuracy\",accuracy)\n",
    "clf_report = classification_report(y_train,y_pred_train_ada)\n",
    "print(\"classification report\\n\",clf_report)"
   ]
  },
  {
   "cell_type": "code",
   "execution_count": 87,
   "metadata": {},
   "outputs": [],
   "source": [
    "# ### Saving The Final Model in Pkl File\n",
    "import pickle \n",
    "\n",
    "with open (\"Prosper_Loan.pkl\",\"wb\") as file:\n",
    "    pickle.dump(rf_clf,file)\n",
    "    \n",
    "    \n",
    "    \n",
    "    \n",
    "    \n",
    "# # Saving model to disk\n",
    "# pickle.dump(adb, open('Prosper_Loan.pkl','wb'))\n",
    "# model=pickle.load(open('Prosper_Loan.pkl','rb'))"
   ]
  },
  {
   "cell_type": "code",
   "execution_count": 88,
   "metadata": {},
   "outputs": [],
   "source": [
    "import joblib"
   ]
  },
  {
   "cell_type": "code",
   "execution_count": 89,
   "metadata": {},
   "outputs": [
    {
     "data": {
      "text/plain": [
       "['loan_status_predict']"
      ]
     },
     "execution_count": 89,
     "metadata": {},
     "output_type": "execute_result"
    }
   ],
   "source": [
    "joblib.dump(rf_clf,'loan_status_predict')"
   ]
  },
  {
   "cell_type": "code",
   "execution_count": 90,
   "metadata": {},
   "outputs": [],
   "source": [
    "model = joblib.load('loan_status_predict')"
   ]
  },
  {
   "cell_type": "code",
   "execution_count": 91,
   "metadata": {},
   "outputs": [],
   "source": [
    "import pandas as pd\n",
    "df = pd.DataFrame({\n",
    "    'Term':1,\n",
    "    'CreditGrade':1,\n",
    "    'ClosedDate':1,\n",
    "    'BorrowerAPR':1,\n",
    "    'BorrowerRate':1,\n",
    "    'BorrowerState':1,\n",
    "    'CurrentDelinquencies':1,\n",
    "    'DebtToIncomeRatio':1,\n",
    "    'EstimatedEffectiveYield':1,\n",
    "    'EstimatedLoss':1,\n",
    "    'EstimatedReturn':1,\n",
    "    'ProsperRating (numeric)':1,\n",
    "    'ProsperRating (Alpha)':1,\n",
    "    'ProsperScore':1,\n",
    "    'EmploymentStatus':1,\n",
    "    'CreditScoreRangeLower':1,\n",
    "    'CreditScoreRangeUpper':1,\n",
    "    'OpenCreditLines':1,\n",
    "    'TotalCreditLinespast7years':1,\n",
    "    'OpenRevolvingAccounts':1,\n",
    "    'OpenRevolvingMonthlyPayment':1,\n",
    "    'TotalInquiries':1,\n",
    "    'RevolvingCreditBalance':1,\n",
    "    'LoanOriginationDate':1,\n",
    "    'LP_CustomerPrincipalPayments':1,\n",
    "    'LP_InterestandFees':1,\n",
    "    'LP_NetPrincipalLoss':1,\n",
    "    'LP_NonPrincipalRecoverypayments':1,\n",
    "    'InvestmentFromFriendsCount':1\n",
    "\n",
    "},index=[0])"
   ]
  },
  {
   "cell_type": "code",
   "execution_count": 92,
   "metadata": {},
   "outputs": [
    {
     "data": {
      "text/html": [
       "<div>\n",
       "<style scoped>\n",
       "    .dataframe tbody tr th:only-of-type {\n",
       "        vertical-align: middle;\n",
       "    }\n",
       "\n",
       "    .dataframe tbody tr th {\n",
       "        vertical-align: top;\n",
       "    }\n",
       "\n",
       "    .dataframe thead th {\n",
       "        text-align: right;\n",
       "    }\n",
       "</style>\n",
       "<table border=\"1\" class=\"dataframe\">\n",
       "  <thead>\n",
       "    <tr style=\"text-align: right;\">\n",
       "      <th></th>\n",
       "      <th>Term</th>\n",
       "      <th>CreditGrade</th>\n",
       "      <th>ClosedDate</th>\n",
       "      <th>BorrowerAPR</th>\n",
       "      <th>BorrowerRate</th>\n",
       "      <th>BorrowerState</th>\n",
       "      <th>CurrentDelinquencies</th>\n",
       "      <th>DebtToIncomeRatio</th>\n",
       "      <th>EstimatedEffectiveYield</th>\n",
       "      <th>EstimatedLoss</th>\n",
       "      <th>...</th>\n",
       "      <th>OpenRevolvingAccounts</th>\n",
       "      <th>OpenRevolvingMonthlyPayment</th>\n",
       "      <th>TotalInquiries</th>\n",
       "      <th>RevolvingCreditBalance</th>\n",
       "      <th>LoanOriginationDate</th>\n",
       "      <th>LP_CustomerPrincipalPayments</th>\n",
       "      <th>LP_InterestandFees</th>\n",
       "      <th>LP_NetPrincipalLoss</th>\n",
       "      <th>LP_NonPrincipalRecoverypayments</th>\n",
       "      <th>InvestmentFromFriendsCount</th>\n",
       "    </tr>\n",
       "  </thead>\n",
       "  <tbody>\n",
       "    <tr>\n",
       "      <th>0</th>\n",
       "      <td>1</td>\n",
       "      <td>1</td>\n",
       "      <td>1</td>\n",
       "      <td>1</td>\n",
       "      <td>1</td>\n",
       "      <td>1</td>\n",
       "      <td>1</td>\n",
       "      <td>1</td>\n",
       "      <td>1</td>\n",
       "      <td>1</td>\n",
       "      <td>...</td>\n",
       "      <td>1</td>\n",
       "      <td>1</td>\n",
       "      <td>1</td>\n",
       "      <td>1</td>\n",
       "      <td>1</td>\n",
       "      <td>1</td>\n",
       "      <td>1</td>\n",
       "      <td>1</td>\n",
       "      <td>1</td>\n",
       "      <td>1</td>\n",
       "    </tr>\n",
       "  </tbody>\n",
       "</table>\n",
       "<p>1 rows × 29 columns</p>\n",
       "</div>"
      ],
      "text/plain": [
       "   Term  CreditGrade  ClosedDate  BorrowerAPR  BorrowerRate  BorrowerState  \\\n",
       "0     1            1           1            1             1              1   \n",
       "\n",
       "   CurrentDelinquencies  DebtToIncomeRatio  EstimatedEffectiveYield  \\\n",
       "0                     1                  1                        1   \n",
       "\n",
       "   EstimatedLoss  ...  OpenRevolvingAccounts  OpenRevolvingMonthlyPayment  \\\n",
       "0              1  ...                      1                            1   \n",
       "\n",
       "   TotalInquiries  RevolvingCreditBalance  LoanOriginationDate  \\\n",
       "0               1                       1                    1   \n",
       "\n",
       "   LP_CustomerPrincipalPayments  LP_InterestandFees  LP_NetPrincipalLoss  \\\n",
       "0                             1                   1                    1   \n",
       "\n",
       "   LP_NonPrincipalRecoverypayments  InvestmentFromFriendsCount  \n",
       "0                                1                           1  \n",
       "\n",
       "[1 rows x 29 columns]"
      ]
     },
     "execution_count": 92,
     "metadata": {},
     "output_type": "execute_result"
    }
   ],
   "source": [
    "df"
   ]
  },
  {
   "cell_type": "code",
   "execution_count": 93,
   "metadata": {},
   "outputs": [
    {
     "name": "stdout",
     "output_type": "stream",
     "text": [
      "<class 'pandas.core.frame.DataFrame'>\n",
      "Int64Index: 1 entries, 0 to 0\n",
      "Data columns (total 29 columns):\n",
      " #   Column                           Non-Null Count  Dtype\n",
      "---  ------                           --------------  -----\n",
      " 0   Term                             1 non-null      int64\n",
      " 1   CreditGrade                      1 non-null      int64\n",
      " 2   ClosedDate                       1 non-null      int64\n",
      " 3   BorrowerAPR                      1 non-null      int64\n",
      " 4   BorrowerRate                     1 non-null      int64\n",
      " 5   BorrowerState                    1 non-null      int64\n",
      " 6   CurrentDelinquencies             1 non-null      int64\n",
      " 7   DebtToIncomeRatio                1 non-null      int64\n",
      " 8   EstimatedEffectiveYield          1 non-null      int64\n",
      " 9   EstimatedLoss                    1 non-null      int64\n",
      " 10  EstimatedReturn                  1 non-null      int64\n",
      " 11  ProsperRating (numeric)          1 non-null      int64\n",
      " 12  ProsperRating (Alpha)            1 non-null      int64\n",
      " 13  ProsperScore                     1 non-null      int64\n",
      " 14  EmploymentStatus                 1 non-null      int64\n",
      " 15  CreditScoreRangeLower            1 non-null      int64\n",
      " 16  CreditScoreRangeUpper            1 non-null      int64\n",
      " 17  OpenCreditLines                  1 non-null      int64\n",
      " 18  TotalCreditLinespast7years       1 non-null      int64\n",
      " 19  OpenRevolvingAccounts            1 non-null      int64\n",
      " 20  OpenRevolvingMonthlyPayment      1 non-null      int64\n",
      " 21  TotalInquiries                   1 non-null      int64\n",
      " 22  RevolvingCreditBalance           1 non-null      int64\n",
      " 23  LoanOriginationDate              1 non-null      int64\n",
      " 24  LP_CustomerPrincipalPayments     1 non-null      int64\n",
      " 25  LP_InterestandFees               1 non-null      int64\n",
      " 26  LP_NetPrincipalLoss              1 non-null      int64\n",
      " 27  LP_NonPrincipalRecoverypayments  1 non-null      int64\n",
      " 28  InvestmentFromFriendsCount       1 non-null      int64\n",
      "dtypes: int64(29)\n",
      "memory usage: 240.0 bytes\n"
     ]
    }
   ],
   "source": [
    "df.info()"
   ]
  },
  {
   "cell_type": "code",
   "execution_count": 94,
   "metadata": {},
   "outputs": [
    {
     "name": "stdout",
     "output_type": "stream",
     "text": [
      "<class 'pandas.core.frame.DataFrame'>\n",
      "RangeIndex: 57324 entries, 0 to 57323\n",
      "Data columns (total 30 columns):\n",
      " #   Column                           Non-Null Count  Dtype  \n",
      "---  ------                           --------------  -----  \n",
      " 0   LoanStatus                       57324 non-null  int64  \n",
      " 1   Term                             57324 non-null  int64  \n",
      " 2   CreditGrade                      57324 non-null  int64  \n",
      " 3   BorrowerAPR                      57324 non-null  float64\n",
      " 4   BorrowerRate                     57324 non-null  float64\n",
      " 5   BorrowerState                    57324 non-null  int64  \n",
      " 6   CurrentDelinquencies             57324 non-null  float64\n",
      " 7   DebtToIncomeRatio                57324 non-null  float64\n",
      " 8   EstimatedEffectiveYield          57324 non-null  float64\n",
      " 9   EstimatedLoss                    57324 non-null  float64\n",
      " 10  EstimatedReturn                  57324 non-null  float64\n",
      " 11  ProsperRating (numeric)          57324 non-null  float64\n",
      " 12  ProsperRating (Alpha)            57324 non-null  int64  \n",
      " 13  ProsperScore                     57324 non-null  float64\n",
      " 14  EmploymentStatus                 57324 non-null  int64  \n",
      " 15  CreditScoreRangeLower            57324 non-null  float64\n",
      " 16  CreditScoreRangeUpper            57324 non-null  float64\n",
      " 17  OpenCreditLines                  57324 non-null  float64\n",
      " 18  TotalCreditLinespast7years       57324 non-null  float64\n",
      " 19  OpenRevolvingAccounts            57324 non-null  int64  \n",
      " 20  OpenRevolvingMonthlyPayment      57324 non-null  int64  \n",
      " 21  TotalInquiries                   57324 non-null  float64\n",
      " 22  RevolvingCreditBalance           57324 non-null  float64\n",
      " 23  LoanOriginationDate              57324 non-null  int64  \n",
      " 24  LP_CustomerPrincipalPayments     57324 non-null  float64\n",
      " 25  LP_InterestandFees               57324 non-null  float64\n",
      " 26  LP_NetPrincipalLoss              57324 non-null  float64\n",
      " 27  LP_NonPrincipalRecoverypayments  57324 non-null  float64\n",
      " 28  InvestmentFromFriendsCount       57324 non-null  int64  \n",
      " 29  Investors                        57324 non-null  int64  \n",
      "dtypes: float64(19), int64(11)\n",
      "memory usage: 13.1 MB\n"
     ]
    }
   ],
   "source": [
    "model_data.info()"
   ]
  },
  {
   "cell_type": "code",
   "execution_count": 95,
   "metadata": {},
   "outputs": [],
   "source": [
    "result = rf_clf.predict(df)"
   ]
  },
  {
   "cell_type": "code",
   "execution_count": 96,
   "metadata": {},
   "outputs": [
    {
     "data": {
      "text/plain": [
       "array([0], dtype=int64)"
      ]
     },
     "execution_count": 96,
     "metadata": {},
     "output_type": "execute_result"
    }
   ],
   "source": [
    "result"
   ]
  },
  {
   "cell_type": "code",
   "execution_count": 97,
   "metadata": {},
   "outputs": [],
   "source": [
    "\n",
    "# saving the dataframe\n",
    "model_data.to_csv('final.csv')"
   ]
  },
  {
   "cell_type": "code",
   "execution_count": 98,
   "metadata": {},
   "outputs": [
    {
     "name": "stdout",
     "output_type": "stream",
     "text": [
      "<class 'pandas.core.frame.DataFrame'>\n",
      "RangeIndex: 57324 entries, 0 to 57323\n",
      "Data columns (total 30 columns):\n",
      " #   Column                           Non-Null Count  Dtype  \n",
      "---  ------                           --------------  -----  \n",
      " 0   LoanStatus                       57324 non-null  int64  \n",
      " 1   Term                             57324 non-null  int64  \n",
      " 2   CreditGrade                      57324 non-null  int64  \n",
      " 3   BorrowerAPR                      57324 non-null  float64\n",
      " 4   BorrowerRate                     57324 non-null  float64\n",
      " 5   BorrowerState                    57324 non-null  int64  \n",
      " 6   CurrentDelinquencies             57324 non-null  float64\n",
      " 7   DebtToIncomeRatio                57324 non-null  float64\n",
      " 8   EstimatedEffectiveYield          57324 non-null  float64\n",
      " 9   EstimatedLoss                    57324 non-null  float64\n",
      " 10  EstimatedReturn                  57324 non-null  float64\n",
      " 11  ProsperRating (numeric)          57324 non-null  float64\n",
      " 12  ProsperRating (Alpha)            57324 non-null  int64  \n",
      " 13  ProsperScore                     57324 non-null  float64\n",
      " 14  EmploymentStatus                 57324 non-null  int64  \n",
      " 15  CreditScoreRangeLower            57324 non-null  float64\n",
      " 16  CreditScoreRangeUpper            57324 non-null  float64\n",
      " 17  OpenCreditLines                  57324 non-null  float64\n",
      " 18  TotalCreditLinespast7years       57324 non-null  float64\n",
      " 19  OpenRevolvingAccounts            57324 non-null  int64  \n",
      " 20  OpenRevolvingMonthlyPayment      57324 non-null  int64  \n",
      " 21  TotalInquiries                   57324 non-null  float64\n",
      " 22  RevolvingCreditBalance           57324 non-null  float64\n",
      " 23  LoanOriginationDate              57324 non-null  int64  \n",
      " 24  LP_CustomerPrincipalPayments     57324 non-null  float64\n",
      " 25  LP_InterestandFees               57324 non-null  float64\n",
      " 26  LP_NetPrincipalLoss              57324 non-null  float64\n",
      " 27  LP_NonPrincipalRecoverypayments  57324 non-null  float64\n",
      " 28  InvestmentFromFriendsCount       57324 non-null  int64  \n",
      " 29  Investors                        57324 non-null  int64  \n",
      "dtypes: float64(19), int64(11)\n",
      "memory usage: 13.1 MB\n"
     ]
    }
   ],
   "source": [
    "model_data.info()"
   ]
  },
  {
   "cell_type": "code",
   "execution_count": 99,
   "metadata": {},
   "outputs": [],
   "source": [
    "# Current                   56576\n",
    "# Completed                 38074\n",
    "# Chargedoff                11992\n",
    "# Defaulted                  5018\n",
    "# Past Due (1-15 days)        806\n",
    "# Past Due (31-60 days)       363\n",
    "# Past Due (61-90 days)       313\n",
    "# Past Due (91-120 days)      304\n",
    "# Past Due (16-30 days)       265\n",
    "# FinalPaymentInProgress      205\n",
    "# Past Due (>120 days)         16\n",
    "# Cancelled \n",
    "\n",
    "# Perform if-elif statements to map predictions to class labels\n",
    "# for prediction in result:\n",
    "#     if prediction == 0:\n",
    "#         print(\"Current\")\n",
    "#     elif prediction == 1:\n",
    "#         print(\"Completed\")\n",
    "#     elif prediction == 2:\n",
    "#         print(\"Chargedoff\")\n",
    "#     elif prediction == 3:\n",
    "#         print(\"Defaulted\")\n",
    "#     elif prediction == 4:\n",
    "#         print(\"Past Due (1-15 days)\")    \n",
    "#     elif prediction == 5:\n",
    "#         print(\"Past Due (31-60 days)\")        \n",
    "#     elif prediction == 6:\n",
    "#         print(\"Past Due (61-90 days)\")\n",
    "#     elif prediction == 7:\n",
    "#         print(\"Past Due (91-120 days)\")\n",
    "#     elif prediction == 8:\n",
    "#         print(\"Past Due (16-30 days)\")    \n",
    "#     elif prediction == 9:\n",
    "#         print(\"FinalPaymentInProgress\")        \n",
    "#     elif prediction == 10:\n",
    "#         print(\"Past Due (>120 days)\")\n",
    "#     elif prediction == 11:\n",
    "#         print(\"Cancelled\")        "
   ]
  },
  {
   "cell_type": "code",
   "execution_count": null,
   "metadata": {},
   "outputs": [],
   "source": []
  },
  {
   "cell_type": "code",
   "execution_count": 100,
   "metadata": {},
   "outputs": [
    {
     "data": {
      "text/plain": [
       "{'bootstrap': True,\n",
       " 'ccp_alpha': 0.0,\n",
       " 'class_weight': None,\n",
       " 'criterion': 'gini',\n",
       " 'max_depth': None,\n",
       " 'max_features': 'sqrt',\n",
       " 'max_leaf_nodes': None,\n",
       " 'max_samples': None,\n",
       " 'min_impurity_decrease': 0.0,\n",
       " 'min_samples_leaf': 1,\n",
       " 'min_samples_split': 2,\n",
       " 'min_weight_fraction_leaf': 0.0,\n",
       " 'n_estimators': 100,\n",
       " 'n_jobs': None,\n",
       " 'oob_score': False,\n",
       " 'random_state': None,\n",
       " 'verbose': 0,\n",
       " 'warm_start': False}"
      ]
     },
     "execution_count": 100,
     "metadata": {},
     "output_type": "execute_result"
    }
   ],
   "source": [
    "## on which parameters the model has been trained\n",
    "rf_clf.get_params()"
   ]
  },
  {
   "cell_type": "code",
   "execution_count": 101,
   "metadata": {},
   "outputs": [],
   "source": [
    "### Prediction With Test Data\n",
    "reg_pred=rf_clf.predict(x_test)"
   ]
  },
  {
   "cell_type": "code",
   "execution_count": 102,
   "metadata": {},
   "outputs": [
    {
     "data": {
      "text/plain": [
       "array([0, 0, 0, ..., 0, 0, 0], dtype=int64)"
      ]
     },
     "execution_count": 102,
     "metadata": {},
     "output_type": "execute_result"
    }
   ],
   "source": [
    "reg_pred"
   ]
  },
  {
   "attachments": {},
   "cell_type": "markdown",
   "metadata": {},
   "source": [
    "Assumptions"
   ]
  },
  {
   "cell_type": "code",
   "execution_count": 103,
   "metadata": {},
   "outputs": [
    {
     "data": {
      "text/plain": [
       "<matplotlib.collections.PathCollection at 0x24c910462f0>"
      ]
     },
     "execution_count": 103,
     "metadata": {},
     "output_type": "execute_result"
    },
    {
     "data": {
      "image/png": "[encoded data removed]",
      "text/plain": [
       "<Figure size 432x288 with 1 Axes>"
      ]
     },
     "metadata": {
      "needs_background": "light"
     },
     "output_type": "display_data"
    }
   ],
   "source": [
    "# plot a scatter plot for the prediction\n",
    "plt.scatter(y_test,reg_pred)"
   ]
  },
  {
   "cell_type": "code",
   "execution_count": 104,
   "metadata": {},
   "outputs": [],
   "source": [
    "## Residuals\n",
    "residuals=y_test-reg_pred"
   ]
  },
  {
   "cell_type": "code",
   "execution_count": 105,
   "metadata": {},
   "outputs": [
    {
     "data": {
      "text/plain": [
       "42758    0\n",
       "43367    0\n",
       "16       0\n",
       "12557    0\n",
       "57010    0\n",
       "        ..\n",
       "55334    0\n",
       "33745    0\n",
       "46153    0\n",
       "7572     0\n",
       "10888    0\n",
       "Name: LoanStatus, Length: 17198, dtype: int64"
      ]
     },
     "execution_count": 105,
     "metadata": {},
     "output_type": "execute_result"
    }
   ],
   "source": [
    "residuals"
   ]
  },
  {
   "cell_type": "code",
   "execution_count": 106,
   "metadata": {},
   "outputs": [],
   "source": [
    "# CreditGrade\n",
    "# CurrentDelinquencies\n",
    "# DebtToIncomeRatio\n",
    "# ProsperScore\n",
    "# EmploymentStatus\n",
    "# OpenCreditLines"
   ]
  },
  {
   "cell_type": "code",
   "execution_count": 107,
   "metadata": {},
   "outputs": [
    {
     "data": {
      "text/html": [
       "<div>\n",
       "<style scoped>\n",
       "    .dataframe tbody tr th:only-of-type {\n",
       "        vertical-align: middle;\n",
       "    }\n",
       "\n",
       "    .dataframe tbody tr th {\n",
       "        vertical-align: top;\n",
       "    }\n",
       "\n",
       "    .dataframe thead th {\n",
       "        text-align: right;\n",
       "    }\n",
       "</style>\n",
       "<table border=\"1\" class=\"dataframe\">\n",
       "  <thead>\n",
       "    <tr style=\"text-align: right;\">\n",
       "      <th></th>\n",
       "      <th>Term</th>\n",
       "      <th>CreditGrade</th>\n",
       "      <th>BorrowerAPR</th>\n",
       "      <th>BorrowerRate</th>\n",
       "      <th>BorrowerState</th>\n",
       "      <th>CurrentDelinquencies</th>\n",
       "      <th>DebtToIncomeRatio</th>\n",
       "      <th>EstimatedEffectiveYield</th>\n",
       "      <th>EstimatedLoss</th>\n",
       "      <th>EstimatedReturn</th>\n",
       "      <th>...</th>\n",
       "      <th>OpenRevolvingMonthlyPayment</th>\n",
       "      <th>TotalInquiries</th>\n",
       "      <th>RevolvingCreditBalance</th>\n",
       "      <th>LoanOriginationDate</th>\n",
       "      <th>LP_CustomerPrincipalPayments</th>\n",
       "      <th>LP_InterestandFees</th>\n",
       "      <th>LP_NetPrincipalLoss</th>\n",
       "      <th>LP_NonPrincipalRecoverypayments</th>\n",
       "      <th>InvestmentFromFriendsCount</th>\n",
       "      <th>Investors</th>\n",
       "    </tr>\n",
       "  </thead>\n",
       "  <tbody>\n",
       "    <tr>\n",
       "      <th>0</th>\n",
       "      <td>36</td>\n",
       "      <td>3</td>\n",
       "      <td>0.16516</td>\n",
       "      <td>0.1580</td>\n",
       "      <td>5</td>\n",
       "      <td>5.875166</td>\n",
       "      <td>0.17</td>\n",
       "      <td>0.168661</td>\n",
       "      <td>0.080306</td>\n",
       "      <td>0.096068</td>\n",
       "      <td>...</td>\n",
       "      <td>24</td>\n",
       "      <td>3.0</td>\n",
       "      <td>0.000000</td>\n",
       "      <td>1711</td>\n",
       "      <td>9425.00</td>\n",
       "      <td>1971.1400</td>\n",
       "      <td>0.00</td>\n",
       "      <td>0.0</td>\n",
       "      <td>0</td>\n",
       "      <td>258</td>\n",
       "    </tr>\n",
       "    <tr>\n",
       "      <th>1</th>\n",
       "      <td>36</td>\n",
       "      <td>6</td>\n",
       "      <td>0.28269</td>\n",
       "      <td>0.2750</td>\n",
       "      <td>10</td>\n",
       "      <td>5.875166</td>\n",
       "      <td>0.06</td>\n",
       "      <td>0.168661</td>\n",
       "      <td>0.080306</td>\n",
       "      <td>0.096068</td>\n",
       "      <td>...</td>\n",
       "      <td>0</td>\n",
       "      <td>1.0</td>\n",
       "      <td>17598.706751</td>\n",
       "      <td>34</td>\n",
       "      <td>3001.00</td>\n",
       "      <td>1185.6300</td>\n",
       "      <td>0.00</td>\n",
       "      <td>0.0</td>\n",
       "      <td>0</td>\n",
       "      <td>41</td>\n",
       "    </tr>\n",
       "    <tr>\n",
       "      <th>2</th>\n",
       "      <td>36</td>\n",
       "      <td>3</td>\n",
       "      <td>0.15033</td>\n",
       "      <td>0.1325</td>\n",
       "      <td>4</td>\n",
       "      <td>5.875166</td>\n",
       "      <td>0.27</td>\n",
       "      <td>0.168661</td>\n",
       "      <td>0.080306</td>\n",
       "      <td>0.096068</td>\n",
       "      <td>...</td>\n",
       "      <td>40</td>\n",
       "      <td>5.0</td>\n",
       "      <td>1220.000000</td>\n",
       "      <td>197</td>\n",
       "      <td>1000.00</td>\n",
       "      <td>11.6500</td>\n",
       "      <td>0.00</td>\n",
       "      <td>0.0</td>\n",
       "      <td>0</td>\n",
       "      <td>53</td>\n",
       "    </tr>\n",
       "    <tr>\n",
       "      <th>3</th>\n",
       "      <td>36</td>\n",
       "      <td>3</td>\n",
       "      <td>0.17969</td>\n",
       "      <td>0.1435</td>\n",
       "      <td>1</td>\n",
       "      <td>5.875166</td>\n",
       "      <td>0.18</td>\n",
       "      <td>0.126400</td>\n",
       "      <td>0.052400</td>\n",
       "      <td>0.074000</td>\n",
       "      <td>...</td>\n",
       "      <td>290</td>\n",
       "      <td>4.0</td>\n",
       "      <td>8624.000000</td>\n",
       "      <td>138</td>\n",
       "      <td>88.64</td>\n",
       "      <td>47.1774</td>\n",
       "      <td>0.00</td>\n",
       "      <td>0.0</td>\n",
       "      <td>0</td>\n",
       "      <td>1</td>\n",
       "    </tr>\n",
       "    <tr>\n",
       "      <th>4</th>\n",
       "      <td>36</td>\n",
       "      <td>3</td>\n",
       "      <td>0.35797</td>\n",
       "      <td>0.3177</td>\n",
       "      <td>9</td>\n",
       "      <td>5.875166</td>\n",
       "      <td>0.49</td>\n",
       "      <td>0.289600</td>\n",
       "      <td>0.165000</td>\n",
       "      <td>0.124600</td>\n",
       "      <td>...</td>\n",
       "      <td>300</td>\n",
       "      <td>1.0</td>\n",
       "      <td>9103.000000</td>\n",
       "      <td>961</td>\n",
       "      <td>209.75</td>\n",
       "      <td>311.3800</td>\n",
       "      <td>3790.25</td>\n",
       "      <td>0.0</td>\n",
       "      <td>0</td>\n",
       "      <td>10</td>\n",
       "    </tr>\n",
       "    <tr>\n",
       "      <th>...</th>\n",
       "      <td>...</td>\n",
       "      <td>...</td>\n",
       "      <td>...</td>\n",
       "      <td>...</td>\n",
       "      <td>...</td>\n",
       "      <td>...</td>\n",
       "      <td>...</td>\n",
       "      <td>...</td>\n",
       "      <td>...</td>\n",
       "      <td>...</td>\n",
       "      <td>...</td>\n",
       "      <td>...</td>\n",
       "      <td>...</td>\n",
       "      <td>...</td>\n",
       "      <td>...</td>\n",
       "      <td>...</td>\n",
       "      <td>...</td>\n",
       "      <td>...</td>\n",
       "      <td>...</td>\n",
       "      <td>...</td>\n",
       "      <td>...</td>\n",
       "    </tr>\n",
       "    <tr>\n",
       "      <th>57319</th>\n",
       "      <td>36</td>\n",
       "      <td>1</td>\n",
       "      <td>0.07469</td>\n",
       "      <td>0.0679</td>\n",
       "      <td>47</td>\n",
       "      <td>5.875166</td>\n",
       "      <td>0.06</td>\n",
       "      <td>0.168661</td>\n",
       "      <td>0.080306</td>\n",
       "      <td>0.096068</td>\n",
       "      <td>...</td>\n",
       "      <td>763</td>\n",
       "      <td>9.0</td>\n",
       "      <td>89961.000000</td>\n",
       "      <td>1207</td>\n",
       "      <td>4291.99</td>\n",
       "      <td>464.9300</td>\n",
       "      <td>0.00</td>\n",
       "      <td>0.0</td>\n",
       "      <td>0</td>\n",
       "      <td>194</td>\n",
       "    </tr>\n",
       "    <tr>\n",
       "      <th>57320</th>\n",
       "      <td>36</td>\n",
       "      <td>3</td>\n",
       "      <td>0.22362</td>\n",
       "      <td>0.1899</td>\n",
       "      <td>5</td>\n",
       "      <td>5.875166</td>\n",
       "      <td>0.27</td>\n",
       "      <td>0.175700</td>\n",
       "      <td>0.061000</td>\n",
       "      <td>0.114700</td>\n",
       "      <td>...</td>\n",
       "      <td>7</td>\n",
       "      <td>2.0</td>\n",
       "      <td>4.000000</td>\n",
       "      <td>1218</td>\n",
       "      <td>2000.00</td>\n",
       "      <td>83.6200</td>\n",
       "      <td>0.00</td>\n",
       "      <td>0.0</td>\n",
       "      <td>0</td>\n",
       "      <td>25</td>\n",
       "    </tr>\n",
       "    <tr>\n",
       "      <th>57321</th>\n",
       "      <td>36</td>\n",
       "      <td>3</td>\n",
       "      <td>0.30285</td>\n",
       "      <td>0.2639</td>\n",
       "      <td>9</td>\n",
       "      <td>5.875166</td>\n",
       "      <td>0.05</td>\n",
       "      <td>0.231800</td>\n",
       "      <td>0.122500</td>\n",
       "      <td>0.109300</td>\n",
       "      <td>...</td>\n",
       "      <td>135</td>\n",
       "      <td>19.0</td>\n",
       "      <td>1109.000000</td>\n",
       "      <td>1368</td>\n",
       "      <td>2500.00</td>\n",
       "      <td>172.5800</td>\n",
       "      <td>0.00</td>\n",
       "      <td>0.0</td>\n",
       "      <td>0</td>\n",
       "      <td>26</td>\n",
       "    </tr>\n",
       "    <tr>\n",
       "      <th>57322</th>\n",
       "      <td>36</td>\n",
       "      <td>3</td>\n",
       "      <td>0.13220</td>\n",
       "      <td>0.1110</td>\n",
       "      <td>38</td>\n",
       "      <td>5.875166</td>\n",
       "      <td>0.11</td>\n",
       "      <td>0.100700</td>\n",
       "      <td>0.020000</td>\n",
       "      <td>0.080700</td>\n",
       "      <td>...</td>\n",
       "      <td>495</td>\n",
       "      <td>4.0</td>\n",
       "      <td>15743.000000</td>\n",
       "      <td>441</td>\n",
       "      <td>1997.16</td>\n",
       "      <td>333.3900</td>\n",
       "      <td>0.00</td>\n",
       "      <td>0.0</td>\n",
       "      <td>0</td>\n",
       "      <td>22</td>\n",
       "    </tr>\n",
       "    <tr>\n",
       "      <th>57323</th>\n",
       "      <td>60</td>\n",
       "      <td>3</td>\n",
       "      <td>0.28408</td>\n",
       "      <td>0.2605</td>\n",
       "      <td>10</td>\n",
       "      <td>5.875166</td>\n",
       "      <td>0.48</td>\n",
       "      <td>0.244500</td>\n",
       "      <td>0.085000</td>\n",
       "      <td>0.159500</td>\n",
       "      <td>...</td>\n",
       "      <td>488</td>\n",
       "      <td>4.0</td>\n",
       "      <td>11956.000000</td>\n",
       "      <td>372</td>\n",
       "      <td>15000.00</td>\n",
       "      <td>6122.5600</td>\n",
       "      <td>0.00</td>\n",
       "      <td>0.0</td>\n",
       "      <td>0</td>\n",
       "      <td>274</td>\n",
       "    </tr>\n",
       "  </tbody>\n",
       "</table>\n",
       "<p>57324 rows × 29 columns</p>\n",
       "</div>"
      ],
      "text/plain": [
       "       Term  CreditGrade  BorrowerAPR  BorrowerRate  BorrowerState  \\\n",
       "0        36            3      0.16516        0.1580              5   \n",
       "1        36            6      0.28269        0.2750             10   \n",
       "2        36            3      0.15033        0.1325              4   \n",
       "3        36            3      0.17969        0.1435              1   \n",
       "4        36            3      0.35797        0.3177              9   \n",
       "...     ...          ...          ...           ...            ...   \n",
       "57319    36            1      0.07469        0.0679             47   \n",
       "57320    36            3      0.22362        0.1899              5   \n",
       "57321    36            3      0.30285        0.2639              9   \n",
       "57322    36            3      0.13220        0.1110             38   \n",
       "57323    60            3      0.28408        0.2605             10   \n",
       "\n",
       "       CurrentDelinquencies  DebtToIncomeRatio  EstimatedEffectiveYield  \\\n",
       "0                  5.875166               0.17                 0.168661   \n",
       "1                  5.875166               0.06                 0.168661   \n",
       "2                  5.875166               0.27                 0.168661   \n",
       "3                  5.875166               0.18                 0.126400   \n",
       "4                  5.875166               0.49                 0.289600   \n",
       "...                     ...                ...                      ...   \n",
       "57319              5.875166               0.06                 0.168661   \n",
       "57320              5.875166               0.27                 0.175700   \n",
       "57321              5.875166               0.05                 0.231800   \n",
       "57322              5.875166               0.11                 0.100700   \n",
       "57323              5.875166               0.48                 0.244500   \n",
       "\n",
       "       EstimatedLoss  EstimatedReturn  ...  OpenRevolvingMonthlyPayment  \\\n",
       "0           0.080306         0.096068  ...                           24   \n",
       "1           0.080306         0.096068  ...                            0   \n",
       "2           0.080306         0.096068  ...                           40   \n",
       "3           0.052400         0.074000  ...                          290   \n",
       "4           0.165000         0.124600  ...                          300   \n",
       "...              ...              ...  ...                          ...   \n",
       "57319       0.080306         0.096068  ...                          763   \n",
       "57320       0.061000         0.114700  ...                            7   \n",
       "57321       0.122500         0.109300  ...                          135   \n",
       "57322       0.020000         0.080700  ...                          495   \n",
       "57323       0.085000         0.159500  ...                          488   \n",
       "\n",
       "       TotalInquiries  RevolvingCreditBalance  LoanOriginationDate  \\\n",
       "0                 3.0                0.000000                 1711   \n",
       "1                 1.0            17598.706751                   34   \n",
       "2                 5.0             1220.000000                  197   \n",
       "3                 4.0             8624.000000                  138   \n",
       "4                 1.0             9103.000000                  961   \n",
       "...               ...                     ...                  ...   \n",
       "57319             9.0            89961.000000                 1207   \n",
       "57320             2.0                4.000000                 1218   \n",
       "57321            19.0             1109.000000                 1368   \n",
       "57322             4.0            15743.000000                  441   \n",
       "57323             4.0            11956.000000                  372   \n",
       "\n",
       "       LP_CustomerPrincipalPayments  LP_InterestandFees  LP_NetPrincipalLoss  \\\n",
       "0                           9425.00           1971.1400                 0.00   \n",
       "1                           3001.00           1185.6300                 0.00   \n",
       "2                           1000.00             11.6500                 0.00   \n",
       "3                             88.64             47.1774                 0.00   \n",
       "4                            209.75            311.3800              3790.25   \n",
       "...                             ...                 ...                  ...   \n",
       "57319                       4291.99            464.9300                 0.00   \n",
       "57320                       2000.00             83.6200                 0.00   \n",
       "57321                       2500.00            172.5800                 0.00   \n",
       "57322                       1997.16            333.3900                 0.00   \n",
       "57323                      15000.00           6122.5600                 0.00   \n",
       "\n",
       "       LP_NonPrincipalRecoverypayments  InvestmentFromFriendsCount  Investors  \n",
       "0                                  0.0                           0        258  \n",
       "1                                  0.0                           0         41  \n",
       "2                                  0.0                           0         53  \n",
       "3                                  0.0                           0          1  \n",
       "4                                  0.0                           0         10  \n",
       "...                                ...                         ...        ...  \n",
       "57319                              0.0                           0        194  \n",
       "57320                              0.0                           0         25  \n",
       "57321                              0.0                           0         26  \n",
       "57322                              0.0                           0         22  \n",
       "57323                              0.0                           0        274  \n",
       "\n",
       "[57324 rows x 29 columns]"
      ]
     },
     "execution_count": 107,
     "metadata": {},
     "output_type": "execute_result"
    }
   ],
   "source": [
    "x"
   ]
  },
  {
   "cell_type": "code",
   "execution_count": 108,
   "metadata": {},
   "outputs": [
    {
     "data": {
      "text/plain": [
       "array([0], dtype=int64)"
      ]
     },
     "execution_count": 108,
     "metadata": {},
     "output_type": "execute_result"
    }
   ],
   "source": [
    "model.predict([[36,3,0.16,0.15,5,5.87,0.17,0.16,0.08,0.09,4.07,3,5.95,1,640,659,4,12,1,24,3,0,1711,9425,1971.14,0,0,0,258]])"
   ]
  },
  {
   "cell_type": "code",
   "execution_count": 109,
   "metadata": {},
   "outputs": [
    {
     "data": {
      "text/plain": [
       "array([1], dtype=int64)"
      ]
     },
     "execution_count": 109,
     "metadata": {},
     "output_type": "execute_result"
    }
   ],
   "source": [
    "model.predict([[36,3,0.28,0.24,14,5.87,0.39,0.21,0.10,0.10,3,4,5.87,0,680,699,7,34,5,2445,0,7975,1002,117.73,118.28,1882.27,0,0,30]])"
   ]
  }
 ],
 "metadata": {
  "kernelspec": {
   "display_name": "Python 3 (ipykernel)",
   "language": "python",
   "name": "python3"
  },
  "language_info": {
   "codemirror_mode": {
    "name": "ipython",
    "version": 3
   },
   "file_extension": ".py",
   "mimetype": "text/x-python",
   "name": "python",
   "nbconvert_exporter": "python",
   "pygments_lexer": "ipython3",
   "version": "3.10.8"
  }
 },
 "nbformat": 4,
 "nbformat_minor": 2
}
